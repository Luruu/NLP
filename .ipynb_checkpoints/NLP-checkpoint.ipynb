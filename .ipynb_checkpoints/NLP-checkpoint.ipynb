{
 "cells": [
  {
   "cell_type": "markdown",
   "metadata": {
    "id": "k1cjJt_6EDFa"
   },
   "source": [
    "# **SETUP Libraries for first and second assignments** "
   ]
  },
  {
   "cell_type": "code",
   "execution_count": 1,
   "metadata": {
    "id": "078d_ahx17Q5",
    "scrolled": true
   },
   "outputs": [
    {
     "name": "stdout",
     "output_type": "stream",
     "text": [
      "Requirement already satisfied: scikit-learn in /Users/renatoesposito/opt/anaconda3/lib/python3.9/site-packages (1.2.0)\n",
      "Requirement already satisfied: joblib>=1.1.1 in /Users/renatoesposito/opt/anaconda3/lib/python3.9/site-packages (from scikit-learn) (1.2.0)\n",
      "Requirement already satisfied: numpy>=1.17.3 in /Users/renatoesposito/opt/anaconda3/lib/python3.9/site-packages (from scikit-learn) (1.21.5)\n",
      "Requirement already satisfied: scipy>=1.3.2 in /Users/renatoesposito/opt/anaconda3/lib/python3.9/site-packages (from scikit-learn) (1.9.1)\n",
      "Requirement already satisfied: threadpoolctl>=2.0.0 in /Users/renatoesposito/opt/anaconda3/lib/python3.9/site-packages (from scikit-learn) (2.2.0)\n",
      "Requirement already satisfied: nltk in /Users/renatoesposito/.local/lib/python3.9/site-packages (3.8)\n",
      "Requirement already satisfied: regex>=2021.8.3 in /Users/renatoesposito/opt/anaconda3/lib/python3.9/site-packages (from nltk) (2022.7.9)\n",
      "Requirement already satisfied: tqdm in /Users/renatoesposito/opt/anaconda3/lib/python3.9/site-packages (from nltk) (4.64.1)\n",
      "Requirement already satisfied: click in /Users/renatoesposito/opt/anaconda3/lib/python3.9/site-packages (from nltk) (8.0.4)\n",
      "Requirement already satisfied: joblib in /Users/renatoesposito/opt/anaconda3/lib/python3.9/site-packages (from nltk) (1.2.0)\n",
      "Requirement already satisfied: datasets in /Users/renatoesposito/opt/anaconda3/lib/python3.9/site-packages (2.8.0)\n",
      "Requirement already satisfied: xxhash in /Users/renatoesposito/opt/anaconda3/lib/python3.9/site-packages (from datasets) (3.1.0)\n",
      "Requirement already satisfied: multiprocess in /Users/renatoesposito/opt/anaconda3/lib/python3.9/site-packages (from datasets) (0.70.14)\n",
      "Requirement already satisfied: numpy>=1.17 in /Users/renatoesposito/opt/anaconda3/lib/python3.9/site-packages (from datasets) (1.21.5)\n",
      "Requirement already satisfied: pyarrow>=6.0.0 in /Users/renatoesposito/opt/anaconda3/lib/python3.9/site-packages (from datasets) (10.0.1)\n",
      "Requirement already satisfied: requests>=2.19.0 in /Users/renatoesposito/opt/anaconda3/lib/python3.9/site-packages (from datasets) (2.28.1)\n",
      "Requirement already satisfied: huggingface-hub<1.0.0,>=0.2.0 in /Users/renatoesposito/opt/anaconda3/lib/python3.9/site-packages (from datasets) (0.11.1)\n",
      "Requirement already satisfied: aiohttp in /Users/renatoesposito/opt/anaconda3/lib/python3.9/site-packages (from datasets) (3.8.3)\n",
      "Requirement already satisfied: pyyaml>=5.1 in /Users/renatoesposito/opt/anaconda3/lib/python3.9/site-packages (from datasets) (6.0)\n",
      "Requirement already satisfied: tqdm>=4.62.1 in /Users/renatoesposito/opt/anaconda3/lib/python3.9/site-packages (from datasets) (4.64.1)\n",
      "Requirement already satisfied: fsspec[http]>=2021.11.1 in /Users/renatoesposito/opt/anaconda3/lib/python3.9/site-packages (from datasets) (2022.7.1)\n",
      "Requirement already satisfied: pandas in /Users/renatoesposito/opt/anaconda3/lib/python3.9/site-packages (from datasets) (1.4.4)\n",
      "Requirement already satisfied: packaging in /Users/renatoesposito/opt/anaconda3/lib/python3.9/site-packages (from datasets) (21.3)\n",
      "Requirement already satisfied: responses<0.19 in /Users/renatoesposito/opt/anaconda3/lib/python3.9/site-packages (from datasets) (0.18.0)\n",
      "Requirement already satisfied: dill<0.3.7 in /Users/renatoesposito/opt/anaconda3/lib/python3.9/site-packages (from datasets) (0.3.6)\n",
      "Requirement already satisfied: filelock in /Users/renatoesposito/opt/anaconda3/lib/python3.9/site-packages (from huggingface-hub<1.0.0,>=0.2.0->datasets) (3.6.0)\n",
      "Requirement already satisfied: typing-extensions>=3.7.4.3 in /Users/renatoesposito/opt/anaconda3/lib/python3.9/site-packages (from huggingface-hub<1.0.0,>=0.2.0->datasets) (4.3.0)\n",
      "Requirement already satisfied: pyparsing!=3.0.5,>=2.0.2 in /Users/renatoesposito/opt/anaconda3/lib/python3.9/site-packages (from packaging->datasets) (3.0.9)\n",
      "Requirement already satisfied: urllib3<1.27,>=1.21.1 in /Users/renatoesposito/opt/anaconda3/lib/python3.9/site-packages (from requests>=2.19.0->datasets) (1.26.11)\n",
      "Requirement already satisfied: idna<4,>=2.5 in /Users/renatoesposito/opt/anaconda3/lib/python3.9/site-packages (from requests>=2.19.0->datasets) (3.3)\n",
      "Requirement already satisfied: certifi>=2017.4.17 in /Users/renatoesposito/opt/anaconda3/lib/python3.9/site-packages (from requests>=2.19.0->datasets) (2022.9.24)\n",
      "Requirement already satisfied: charset-normalizer<3,>=2 in /Users/renatoesposito/opt/anaconda3/lib/python3.9/site-packages (from requests>=2.19.0->datasets) (2.0.4)\n",
      "Requirement already satisfied: yarl<2.0,>=1.0 in /Users/renatoesposito/opt/anaconda3/lib/python3.9/site-packages (from aiohttp->datasets) (1.8.2)\n",
      "Requirement already satisfied: async-timeout<5.0,>=4.0.0a3 in /Users/renatoesposito/opt/anaconda3/lib/python3.9/site-packages (from aiohttp->datasets) (4.0.2)\n",
      "Requirement already satisfied: multidict<7.0,>=4.5 in /Users/renatoesposito/opt/anaconda3/lib/python3.9/site-packages (from aiohttp->datasets) (6.0.4)\n",
      "Requirement already satisfied: frozenlist>=1.1.1 in /Users/renatoesposito/opt/anaconda3/lib/python3.9/site-packages (from aiohttp->datasets) (1.3.3)\n",
      "Requirement already satisfied: attrs>=17.3.0 in /Users/renatoesposito/opt/anaconda3/lib/python3.9/site-packages (from aiohttp->datasets) (21.4.0)\n",
      "Requirement already satisfied: aiosignal>=1.1.2 in /Users/renatoesposito/opt/anaconda3/lib/python3.9/site-packages (from aiohttp->datasets) (1.3.1)\n",
      "Requirement already satisfied: python-dateutil>=2.8.1 in /Users/renatoesposito/opt/anaconda3/lib/python3.9/site-packages (from pandas->datasets) (2.8.2)\n",
      "Requirement already satisfied: pytz>=2020.1 in /Users/renatoesposito/opt/anaconda3/lib/python3.9/site-packages (from pandas->datasets) (2022.1)\n",
      "Requirement already satisfied: six>=1.5 in /Users/renatoesposito/opt/anaconda3/lib/python3.9/site-packages (from python-dateutil>=2.8.1->pandas->datasets) (1.16.0)\n"
     ]
    },
    {
     "name": "stderr",
     "output_type": "stream",
     "text": [
      "[nltk_data] Downloading package gutenberg to\n",
      "[nltk_data]     /Users/renatoesposito/nltk_data...\n",
      "[nltk_data]   Package gutenberg is already up-to-date!\n",
      "[nltk_data] Downloading package twitter_samples to\n",
      "[nltk_data]     /Users/renatoesposito/nltk_data...\n",
      "[nltk_data]   Package twitter_samples is already up-to-date!\n",
      "[nltk_data] Downloading package wordnet to\n",
      "[nltk_data]     /Users/renatoesposito/nltk_data...\n",
      "[nltk_data]   Package wordnet is already up-to-date!\n",
      "[nltk_data] Downloading package omw-1.4 to\n",
      "[nltk_data]     /Users/renatoesposito/nltk_data...\n",
      "[nltk_data]   Package omw-1.4 is already up-to-date!\n",
      "[nltk_data] Downloading package stopwords to\n",
      "[nltk_data]     /Users/renatoesposito/nltk_data...\n",
      "[nltk_data]   Package stopwords is already up-to-date!\n",
      "[nltk_data] Downloading package names to\n",
      "[nltk_data]     /Users/renatoesposito/nltk_data...\n",
      "[nltk_data]   Package names is already up-to-date!\n",
      "[nltk_data] Downloading package punkt to\n",
      "[nltk_data]     /Users/renatoesposito/nltk_data...\n",
      "[nltk_data]   Package punkt is already up-to-date!\n",
      "[nltk_data] Downloading package averaged_perceptron_tagger to\n",
      "[nltk_data]     /Users/renatoesposito/nltk_data...\n",
      "[nltk_data]   Package averaged_perceptron_tagger is already up-to-\n",
      "[nltk_data]       date!\n"
     ]
    },
    {
     "data": {
      "text/plain": [
       "True"
      ]
     },
     "execution_count": 1,
     "metadata": {},
     "output_type": "execute_result"
    }
   ],
   "source": [
    "#setup\n",
    "!pip install -U scikit-learn\n",
    "!pip install --user -U nltk\n",
    "!pip install datasets\n",
    "import nltk\n",
    "from nltk.tokenize import word_tokenize\n",
    "from nltk import FreqDist, classify, NaiveBayesClassifier\n",
    "from nltk.stem import WordNetLemmatizer\n",
    "from nltk.corpus import gutenberg\n",
    "from nltk.corpus import wordnet\n",
    "from nltk.corpus import twitter_samples\n",
    "from nltk.corpus import names\n",
    "from nltk.corpus import stopwords\n",
    "from nltk.tokenize import RegexpTokenizer\n",
    "from nltk.tokenize import word_tokenize\n",
    "from nltk.tokenize import TweetTokenizer\n",
    "from nltk.stem.porter import PorterStemmer\n",
    "from nltk.metrics import ConfusionMatrix\n",
    "from nltk.classify.scikitlearn import SklearnClassifier\n",
    "from nltk.inference import tableau\n",
    "from sklearn.linear_model import LogisticRegression\n",
    "from sklearn.metrics import accuracy_score, confusion_matrix, ConfusionMatrixDisplay,precision_recall_fscore_support\n",
    "from sklearn.model_selection import train_test_split\n",
    "\n",
    "\n",
    "from sklearn.feature_extraction.text import CountVectorizer\n",
    "import csv\n",
    "import re\n",
    "from string import punctuation\n",
    "import pandas as pd\n",
    "import matplotlib.pyplot as plt\n",
    "import seaborn as sns\n",
    "import random\n",
    "import numpy as np\n",
    "\n",
    "nltk.download('gutenberg')\n",
    "nltk.download('twitter_samples')\n",
    "nltk.download('wordnet')\n",
    "nltk.download('omw-1.4')\n",
    "nltk.download('stopwords')\n",
    "nltk.download('names')\n",
    "nltk.download('punkt')\n",
    "nltk.download('averaged_perceptron_tagger')\n",
    "\n"
   ]
  },
  {
   "cell_type": "markdown",
   "metadata": {
    "id": "DVHVY05IEQtO"
   },
   "source": [
    "# **1° Assignment: Some Preprocessing tasks**"
   ]
  },
  {
   "cell_type": "markdown",
   "metadata": {
    "id": "RKGqQx0Syp1x"
   },
   "source": [
    "## **NLTK** \n",
    "NLTK is a collection of modules and corpora, released under an open-source license, that allows students to learn and conduct research in NLP.\n",
    "The most important advantage of using NLTK is that it is entirely self-contained. Not only it provided convenient function and wrappers that can be used as building blocks for common NLP tasks, but it also provides raw and pre-processes versions of standard corpora used in NLP literature and courses.\n",
    "\n",
    "## **Corpus loading**\n",
    "\n",
    "A corpus is a large collection of texts, spoken or written, to find out how often specific words or phrases occur and what type of collocation are most\n",
    "common.\n",
    "In this case we want to upload a corpus, to do this we load the **GUTENBERG** collection and through gutenberg.raw, to which we give as input the name (or id) of the corpus we want to load, we get the unprocessed corpus. <br>\n",
    "We store the word list and the entire corpus as a string type using the NLTK methods: `words()` and `raw()`.\n"
   ]
  },
  {
   "cell_type": "code",
   "execution_count": 2,
   "metadata": {
    "colab": {
     "base_uri": "https://localhost:8080/"
    },
    "executionInfo": {
     "elapsed": 9,
     "status": "ok",
     "timestamp": 1671809030554,
     "user": {
      "displayName": "Vincenzo Mele",
      "userId": "17409443190495227527"
     },
     "user_tz": -60
    },
    "id": "RADZCDIHrc27",
    "outputId": "edd5cacd-091d-46d4-99e1-c12cc93f093d"
   },
   "outputs": [
    {
     "name": "stdout",
     "output_type": "stream",
     "text": [
      "['[', 'Persuasion', 'by', 'Jane', 'Austen', '1818', ...] type of words_corpus: <class 'nltk.corpus.reader.util.StreamBackedCorpusView'>\n"
     ]
    }
   ],
   "source": [
    "corpus = gutenberg.raw(gutenberg.fileids()[1]) # \"gutenberg.fileids()[1]\" is austen-persuasion.txt, and corpus is a str\n",
    "words_corpus = gutenberg.words(gutenberg.fileids()[1])\n",
    "print(words_corpus, \"type of words_corpus:\", type(words_corpus))\n"
   ]
  },
  {
   "cell_type": "markdown",
   "metadata": {
    "id": "to69kBx3y1Eh"
   },
   "source": [
    "## **Corpus statistics**\n",
    "\n",
    "### **Word Frequency**\n",
    "\n",
    "Word Frequency distribution can be considered as one of the basic statistical analysis that can be done on text data.\n",
    "\n",
    "In this section we count the total number of words in the corpus, the total number of unique words and a list of the 10 most frequent words. <br>\n",
    "To be able to count the total number of words and unique words, it is necessary to use the `.N()` and `.B()` methods of the `FreqDist()` class respectively. <br>\n",
    "\n",
    "```\n",
    "#OUTPUT\n",
    "Total number of samples:  98171 \n",
    "Number of bins or unique samples 6132\n",
    "```\n",
    "\n",
    "To show the n most frequent words you can use the most_common (n) function which returns the n most frequent words.\n",
    "\n",
    "\n",
    "\n",
    "```\n",
    "  Word  Frequency\n",
    "0  the       3329\n",
    "1   to       2808\n",
    "2  and       2801\n",
    "3   of       2570\n",
    "4    a       1595\n",
    "5   in       1389\n",
    "6  was       1337\n",
    "7  her       1204\n",
    "8  had       1186\n",
    "9  she       1146\n",
    "```\n",
    "\n",
    "\n"
   ]
  },
  {
   "cell_type": "code",
   "execution_count": 3,
   "metadata": {
    "colab": {
     "base_uri": "https://localhost:8080/",
     "height": 398
    },
    "executionInfo": {
     "elapsed": 368,
     "status": "ok",
     "timestamp": 1671809030918,
     "user": {
      "displayName": "Vincenzo Mele",
      "userId": "17409443190495227527"
     },
     "user_tz": -60
    },
    "id": "zE_GBpsr-mhX",
    "outputId": "415b8363-c591-4b55-ebeb-fe4c29020799"
   },
   "outputs": [
    {
     "name": "stdout",
     "output_type": "stream",
     "text": [
      "Total number of samples:  84767 \n",
      "Number of bins or unique samples 5819\n"
     ]
    },
    {
     "data": {
      "text/html": [
       "<div>\n",
       "<style scoped>\n",
       "    .dataframe tbody tr th:only-of-type {\n",
       "        vertical-align: middle;\n",
       "    }\n",
       "\n",
       "    .dataframe tbody tr th {\n",
       "        vertical-align: top;\n",
       "    }\n",
       "\n",
       "    .dataframe thead th {\n",
       "        text-align: right;\n",
       "    }\n",
       "</style>\n",
       "<table border=\"1\" class=\"dataframe\">\n",
       "  <thead>\n",
       "    <tr style=\"text-align: right;\">\n",
       "      <th></th>\n",
       "      <th>Word</th>\n",
       "      <th>Frequency</th>\n",
       "    </tr>\n",
       "  </thead>\n",
       "  <tbody>\n",
       "    <tr>\n",
       "      <th>0</th>\n",
       "      <td>the</td>\n",
       "      <td>3329</td>\n",
       "    </tr>\n",
       "    <tr>\n",
       "      <th>1</th>\n",
       "      <td>to</td>\n",
       "      <td>2808</td>\n",
       "    </tr>\n",
       "    <tr>\n",
       "      <th>2</th>\n",
       "      <td>and</td>\n",
       "      <td>2801</td>\n",
       "    </tr>\n",
       "    <tr>\n",
       "      <th>3</th>\n",
       "      <td>of</td>\n",
       "      <td>2570</td>\n",
       "    </tr>\n",
       "    <tr>\n",
       "      <th>4</th>\n",
       "      <td>a</td>\n",
       "      <td>1595</td>\n",
       "    </tr>\n",
       "    <tr>\n",
       "      <th>5</th>\n",
       "      <td>in</td>\n",
       "      <td>1389</td>\n",
       "    </tr>\n",
       "    <tr>\n",
       "      <th>6</th>\n",
       "      <td>was</td>\n",
       "      <td>1337</td>\n",
       "    </tr>\n",
       "    <tr>\n",
       "      <th>7</th>\n",
       "      <td>her</td>\n",
       "      <td>1204</td>\n",
       "    </tr>\n",
       "    <tr>\n",
       "      <th>8</th>\n",
       "      <td>had</td>\n",
       "      <td>1186</td>\n",
       "    </tr>\n",
       "    <tr>\n",
       "      <th>9</th>\n",
       "      <td>she</td>\n",
       "      <td>1146</td>\n",
       "    </tr>\n",
       "  </tbody>\n",
       "</table>\n",
       "</div>"
      ],
      "text/plain": [
       "  Word  Frequency\n",
       "0  the       3329\n",
       "1   to       2808\n",
       "2  and       2801\n",
       "3   of       2570\n",
       "4    a       1595\n",
       "5   in       1389\n",
       "6  was       1337\n",
       "7  her       1204\n",
       "8  had       1186\n",
       "9  she       1146"
      ]
     },
     "metadata": {},
     "output_type": "display_data"
    }
   ],
   "source": [
    "fd = nltk.FreqDist()\n",
    "Punctuation = list(punctuation)\n",
    "Punctuation.append('.\"')\n",
    "for word in words_corpus:\n",
    "  if word not in Punctuation:\n",
    "    fd[word.lower()]+=1\n",
    "\n",
    "\n",
    "print('Total number of samples: ',fd.N(), '\\nNumber of bins or unique samples', fd.B())\n",
    "\n",
    "data_frame=pd.DataFrame(fd.most_common(10),columns=['Word','Frequency'])\n",
    "display(data_frame)\n",
    "  "
   ]
  },
  {
   "cell_type": "markdown",
   "metadata": {
    "id": "zZHfdVYlEhq7"
   },
   "source": [
    "We plot the words in a graph, and can see that most of the words present in the top occuring list are STOPWORDS and the most frequenct word here is *the* and that is obvious"
   ]
  },
  {
   "cell_type": "code",
   "execution_count": 4,
   "metadata": {
    "colab": {
     "base_uri": "https://localhost:8080/",
     "height": 350
    },
    "executionInfo": {
     "elapsed": 253,
     "status": "ok",
     "timestamp": 1671809031160,
     "user": {
      "displayName": "Vincenzo Mele",
      "userId": "17409443190495227527"
     },
     "user_tz": -60
    },
    "id": "Hbv8bdspGRPC",
    "outputId": "7edbe53d-2014-4ae0-c9d2-94ae285cf2c8"
   },
   "outputs": [
    {
     "data": {
      "image/png": "[encoded data removed]",
      "text/plain": [
       "<Figure size 1500x500 with 1 Axes>"
      ]
     },
     "metadata": {},
     "output_type": "display_data"
    }
   ],
   "source": [
    "\n",
    "\n",
    "words = [element[0] for element in fd.most_common(10)]\n",
    "frequences = [element[1] for element in fd.most_common(10)]\n",
    "plt.figure(figsize=(15,5))\n",
    "plt.xlabel(\"Words\")\n",
    "plt.ylabel(\"Frequences\")\n",
    "plt.title(\"Word Frequencies Distribution - Including Stopwords\")\n",
    "plot = sns.barplot(x=words,y=frequences)\n"
   ]
  },
  {
   "cell_type": "markdown",
   "metadata": {
    "id": "5WJqWThKMaii"
   },
   "source": [
    "We can remove the stopwords using the list from nltk package and see the 10 most common words in our corpus"
   ]
  },
  {
   "cell_type": "code",
   "execution_count": 5,
   "metadata": {
    "colab": {
     "base_uri": "https://localhost:8080/",
     "height": 350
    },
    "executionInfo": {
     "elapsed": 1078,
     "status": "ok",
     "timestamp": 1671809032223,
     "user": {
      "displayName": "Vincenzo Mele",
      "userId": "17409443190495227527"
     },
     "user_tz": -60
    },
    "id": "uRA78PmKNNFv",
    "outputId": "fa1477e8-551b-429e-e3f2-0e698fc635d0"
   },
   "outputs": [
    {
     "data": {
      "image/png": "[encoded data removed]",
      "text/plain": [
       "<Figure size 1500x500 with 1 Axes>"
      ]
     },
     "metadata": {},
     "output_type": "display_data"
    }
   ],
   "source": [
    "Stopwords = stopwords.words('english')\n",
    "fd_no_stopwords = FreqDist()\n",
    "\n",
    "for word in words_corpus:\n",
    "  if word.lower() not in Punctuation and word.lower() not in Stopwords:\n",
    "    fd_no_stopwords[word.lower()]+=1\n",
    "\n",
    "words = [element[0] for element in fd_no_stopwords.most_common(10)]\n",
    "frequences = [element[1] for element in fd_no_stopwords.most_common(10)]\n",
    "plt.figure(figsize=(15,5))\n",
    "plt.xlabel(\"Words\")\n",
    "plt.ylabel(\"Frequences\")\n",
    "plt.title(\"Word Frequencies Distribution - Without Stopwords\")\n",
    "plot = sns.barplot(x=words,y=frequences)"
   ]
  },
  {
   "attachments": {
    "zip.png": {
     "image/png": "[encoded data removed]"
    }
   },
   "cell_type": "markdown",
   "metadata": {
    "id": "aefdoMLAQ0Xa"
   },
   "source": [
    "### **Zipf's Law**\n",
    "\n",
    "In a linguistic corpus, the Zipf's Law is a statistical distribution about the frequency of words.\n",
    "In this law we have that the frequency of a given word is dependent on the inverse of it's rank. \n",
    "The rank of a word can be defined on the basis of the frequency of that word in the corpus, then in general we have that the words with the highest frequency have lower rank.\n",
    "We can see this distribution as a logarithmic curve, in which at the beginning until certain point we have the stopwords.\n",
    "![zip.png](attachment:zip.png)"
   ]
  },
  {
   "cell_type": "code",
   "execution_count": 6,
   "metadata": {
    "colab": {
     "base_uri": "https://localhost:8080/",
     "height": 353
    },
    "executionInfo": {
     "elapsed": 1543,
     "status": "ok",
     "timestamp": 1671809033757,
     "user": {
      "displayName": "Vincenzo Mele",
      "userId": "17409443190495227527"
     },
     "user_tz": -60
    },
    "id": "KryiQUOJUwVk",
    "outputId": "605d76e9-5bee-4734-f1e7-309db591a6a8"
   },
   "outputs": [
    {
     "data": {
      "image/png": "[encoded data removed]",
      "text/plain": [
       "<Figure size 1500x500 with 1 Axes>"
      ]
     },
     "metadata": {},
     "output_type": "display_data"
    }
   ],
   "source": [
    "ranks = []\n",
    "freqs = []\n",
    "rank = 0\n",
    "for element in fd.most_common(fd.B()):\n",
    "  rank = rank + 1\n",
    "  ranks.append(rank)\n",
    "  freqs.append(element[1])\n",
    "\n",
    "plt.figure(figsize=(15,5))\n",
    "plt.loglog(ranks,freqs)\n",
    "plt.title(\"Zipf's Law\")\n",
    "plt.xlabel(\"Frequency\")\n",
    "plt.ylabel(\"Rank\")\n",
    "plt.show()"
   ]
  },
  {
   "cell_type": "markdown",
   "metadata": {
    "id": "4y5gNRniy4-D"
   },
   "source": [
    "## **Tokenization**\n",
    "Tokenization means separating out (tokenizing) words from running text.<br>\n",
    "To tokenize the corpus it is possible to use the NLTK's built-in function `words_tokenize(s)`, where `s` is the string that represents the corpus.\n",
    "\n",
    "\n",
    "\n",
    "```\n",
    "# OUTPUT of the first 20 words\n",
    "            Token\n",
    "0               [\n",
    "1      Persuasion\n",
    "2              by\n",
    "3            Jane\n",
    "4          Austen\n",
    "5            1818\n",
    "6               ]\n",
    "7         Chapter\n",
    "8               1\n",
    "9             Sir\n",
    "10         Walter\n",
    "11         Elliot\n",
    "12              ,\n",
    "13             of\n",
    "14       Kellynch\n",
    "15           Hall\n",
    "16              ,\n",
    "17             in\n",
    "18  Somersetshire\n",
    "19              ,\n",
    "```\n",
    "\n"
   ]
  },
  {
   "cell_type": "code",
   "execution_count": 7,
   "metadata": {
    "colab": {
     "base_uri": "https://localhost:8080/",
     "height": 676
    },
    "executionInfo": {
     "elapsed": 826,
     "status": "ok",
     "timestamp": 1671809034576,
     "user": {
      "displayName": "Vincenzo Mele",
      "userId": "17409443190495227527"
     },
     "user_tz": -60
    },
    "id": "XdtJumE4yngU",
    "outputId": "4ccd719d-5013-4387-cb01-cd0aef624b64"
   },
   "outputs": [
    {
     "data": {
      "text/html": [
       "<div>\n",
       "<style scoped>\n",
       "    .dataframe tbody tr th:only-of-type {\n",
       "        vertical-align: middle;\n",
       "    }\n",
       "\n",
       "    .dataframe tbody tr th {\n",
       "        vertical-align: top;\n",
       "    }\n",
       "\n",
       "    .dataframe thead th {\n",
       "        text-align: right;\n",
       "    }\n",
       "</style>\n",
       "<table border=\"1\" class=\"dataframe\">\n",
       "  <thead>\n",
       "    <tr style=\"text-align: right;\">\n",
       "      <th></th>\n",
       "      <th>Token</th>\n",
       "    </tr>\n",
       "  </thead>\n",
       "  <tbody>\n",
       "    <tr>\n",
       "      <th>0</th>\n",
       "      <td>[</td>\n",
       "    </tr>\n",
       "    <tr>\n",
       "      <th>1</th>\n",
       "      <td>Persuasion</td>\n",
       "    </tr>\n",
       "    <tr>\n",
       "      <th>2</th>\n",
       "      <td>by</td>\n",
       "    </tr>\n",
       "    <tr>\n",
       "      <th>3</th>\n",
       "      <td>Jane</td>\n",
       "    </tr>\n",
       "    <tr>\n",
       "      <th>4</th>\n",
       "      <td>Austen</td>\n",
       "    </tr>\n",
       "    <tr>\n",
       "      <th>5</th>\n",
       "      <td>1818</td>\n",
       "    </tr>\n",
       "    <tr>\n",
       "      <th>6</th>\n",
       "      <td>]</td>\n",
       "    </tr>\n",
       "    <tr>\n",
       "      <th>7</th>\n",
       "      <td>Chapter</td>\n",
       "    </tr>\n",
       "    <tr>\n",
       "      <th>8</th>\n",
       "      <td>1</td>\n",
       "    </tr>\n",
       "    <tr>\n",
       "      <th>9</th>\n",
       "      <td>Sir</td>\n",
       "    </tr>\n",
       "    <tr>\n",
       "      <th>10</th>\n",
       "      <td>Walter</td>\n",
       "    </tr>\n",
       "    <tr>\n",
       "      <th>11</th>\n",
       "      <td>Elliot</td>\n",
       "    </tr>\n",
       "    <tr>\n",
       "      <th>12</th>\n",
       "      <td>,</td>\n",
       "    </tr>\n",
       "    <tr>\n",
       "      <th>13</th>\n",
       "      <td>of</td>\n",
       "    </tr>\n",
       "    <tr>\n",
       "      <th>14</th>\n",
       "      <td>Kellynch</td>\n",
       "    </tr>\n",
       "    <tr>\n",
       "      <th>15</th>\n",
       "      <td>Hall</td>\n",
       "    </tr>\n",
       "    <tr>\n",
       "      <th>16</th>\n",
       "      <td>,</td>\n",
       "    </tr>\n",
       "    <tr>\n",
       "      <th>17</th>\n",
       "      <td>in</td>\n",
       "    </tr>\n",
       "    <tr>\n",
       "      <th>18</th>\n",
       "      <td>Somersetshire</td>\n",
       "    </tr>\n",
       "    <tr>\n",
       "      <th>19</th>\n",
       "      <td>,</td>\n",
       "    </tr>\n",
       "  </tbody>\n",
       "</table>\n",
       "</div>"
      ],
      "text/plain": [
       "            Token\n",
       "0               [\n",
       "1      Persuasion\n",
       "2              by\n",
       "3            Jane\n",
       "4          Austen\n",
       "5            1818\n",
       "6               ]\n",
       "7         Chapter\n",
       "8               1\n",
       "9             Sir\n",
       "10         Walter\n",
       "11         Elliot\n",
       "12              ,\n",
       "13             of\n",
       "14       Kellynch\n",
       "15           Hall\n",
       "16              ,\n",
       "17             in\n",
       "18  Somersetshire\n",
       "19              ,"
      ]
     },
     "metadata": {},
     "output_type": "display_data"
    }
   ],
   "source": [
    "df = pd.DataFrame(word_tokenize(corpus)[:20], columns=[\"Token\"]) #word_tokenize consider also the punctuation\n",
    "display(df)\n"
   ]
  },
  {
   "cell_type": "markdown",
   "metadata": {
    "id": "WohfZHFGy8gR"
   },
   "source": [
    "## **Lemmatization**\n",
    "Lemmatization means determining that two words have the same root, despite their surface differences.<br>\n",
    "To do the lemmatization, we use **wordnet lemmatizer** of nltk, based on the **WordNet** system.<br> \n",
    "For finding the lemma of given word we use the method ``` lemmatize``` where the input is formed by:\n",
    "\n",
    "*   Word\n",
    "*   Tag associaded to that word, we compute the tag through the build in method of nltk\n",
    "\n",
    "### **WordNet**\n",
    "WordNet is a lexical database of semantic relations between words.WordNet links words into semantic relations including synonyms, hyponyms, and meronyms.\n",
    "\n",
    "```\n",
    "# FOR EXAMPLE\n",
    "are, is, am -> be\n",
    "```\n",
    "\n"
   ]
  },
  {
   "cell_type": "code",
   "execution_count": 8,
   "metadata": {
    "colab": {
     "base_uri": "https://localhost:8080/",
     "height": 990
    },
    "executionInfo": {
     "elapsed": 2908,
     "status": "ok",
     "timestamp": 1671809037477,
     "user": {
      "displayName": "Vincenzo Mele",
      "userId": "17409443190495227527"
     },
     "user_tz": -60
    },
    "id": "wE8PYEhDy_c4",
    "outputId": "d3de8cb3-d6ea-480e-fa6c-02c006f49d5c"
   },
   "outputs": [
    {
     "data": {
      "text/html": [
       "<div>\n",
       "<style scoped>\n",
       "    .dataframe tbody tr th:only-of-type {\n",
       "        vertical-align: middle;\n",
       "    }\n",
       "\n",
       "    .dataframe tbody tr th {\n",
       "        vertical-align: top;\n",
       "    }\n",
       "\n",
       "    .dataframe thead th {\n",
       "        text-align: right;\n",
       "    }\n",
       "</style>\n",
       "<table border=\"1\" class=\"dataframe\">\n",
       "  <thead>\n",
       "    <tr style=\"text-align: right;\">\n",
       "      <th></th>\n",
       "      <th>Word</th>\n",
       "      <th>Lemma</th>\n",
       "    </tr>\n",
       "  </thead>\n",
       "  <tbody>\n",
       "    <tr>\n",
       "      <th>0</th>\n",
       "      <td>his</td>\n",
       "      <td>his</td>\n",
       "    </tr>\n",
       "    <tr>\n",
       "      <th>1</th>\n",
       "      <td>own</td>\n",
       "      <td>own</td>\n",
       "    </tr>\n",
       "    <tr>\n",
       "      <th>2</th>\n",
       "      <td>history</td>\n",
       "      <td>history</td>\n",
       "    </tr>\n",
       "    <tr>\n",
       "      <th>3</th>\n",
       "      <td>with</td>\n",
       "      <td>with</td>\n",
       "    </tr>\n",
       "    <tr>\n",
       "      <th>4</th>\n",
       "      <td>an</td>\n",
       "      <td>an</td>\n",
       "    </tr>\n",
       "    <tr>\n",
       "      <th>5</th>\n",
       "      <td>interest</td>\n",
       "      <td>interest</td>\n",
       "    </tr>\n",
       "    <tr>\n",
       "      <th>6</th>\n",
       "      <td>which</td>\n",
       "      <td>which</td>\n",
       "    </tr>\n",
       "    <tr>\n",
       "      <th>7</th>\n",
       "      <td>never</td>\n",
       "      <td>never</td>\n",
       "    </tr>\n",
       "    <tr>\n",
       "      <th>8</th>\n",
       "      <td>failed</td>\n",
       "      <td>fail</td>\n",
       "    </tr>\n",
       "    <tr>\n",
       "      <th>9</th>\n",
       "      <td>this</td>\n",
       "      <td>this</td>\n",
       "    </tr>\n",
       "    <tr>\n",
       "      <th>10</th>\n",
       "      <td>was</td>\n",
       "      <td>be</td>\n",
       "    </tr>\n",
       "    <tr>\n",
       "      <th>11</th>\n",
       "      <td>the</td>\n",
       "      <td>the</td>\n",
       "    </tr>\n",
       "    <tr>\n",
       "      <th>12</th>\n",
       "      <td>page</td>\n",
       "      <td>page</td>\n",
       "    </tr>\n",
       "    <tr>\n",
       "      <th>13</th>\n",
       "      <td>at</td>\n",
       "      <td>at</td>\n",
       "    </tr>\n",
       "    <tr>\n",
       "      <th>14</th>\n",
       "      <td>which</td>\n",
       "      <td>which</td>\n",
       "    </tr>\n",
       "    <tr>\n",
       "      <th>15</th>\n",
       "      <td>the</td>\n",
       "      <td>the</td>\n",
       "    </tr>\n",
       "    <tr>\n",
       "      <th>16</th>\n",
       "      <td>favourite</td>\n",
       "      <td>favourite</td>\n",
       "    </tr>\n",
       "    <tr>\n",
       "      <th>17</th>\n",
       "      <td>volume</td>\n",
       "      <td>volume</td>\n",
       "    </tr>\n",
       "    <tr>\n",
       "      <th>18</th>\n",
       "      <td>always</td>\n",
       "      <td>always</td>\n",
       "    </tr>\n",
       "    <tr>\n",
       "      <th>19</th>\n",
       "      <td>opened</td>\n",
       "      <td>open</td>\n",
       "    </tr>\n",
       "    <tr>\n",
       "      <th>20</th>\n",
       "      <td>elliot</td>\n",
       "      <td>elliot</td>\n",
       "    </tr>\n",
       "    <tr>\n",
       "      <th>21</th>\n",
       "      <td>of</td>\n",
       "      <td>of</td>\n",
       "    </tr>\n",
       "    <tr>\n",
       "      <th>22</th>\n",
       "      <td>kellynch</td>\n",
       "      <td>kellynch</td>\n",
       "    </tr>\n",
       "    <tr>\n",
       "      <th>23</th>\n",
       "      <td>hall</td>\n",
       "      <td>hall</td>\n",
       "    </tr>\n",
       "    <tr>\n",
       "      <th>24</th>\n",
       "      <td>walter</td>\n",
       "      <td>walter</td>\n",
       "    </tr>\n",
       "    <tr>\n",
       "      <th>25</th>\n",
       "      <td>elliot</td>\n",
       "      <td>elliot</td>\n",
       "    </tr>\n",
       "    <tr>\n",
       "      <th>26</th>\n",
       "      <td>born</td>\n",
       "      <td>born</td>\n",
       "    </tr>\n",
       "    <tr>\n",
       "      <th>27</th>\n",
       "      <td>march</td>\n",
       "      <td>march</td>\n",
       "    </tr>\n",
       "    <tr>\n",
       "      <th>28</th>\n",
       "      <td>1</td>\n",
       "      <td>1</td>\n",
       "    </tr>\n",
       "    <tr>\n",
       "      <th>29</th>\n",
       "      <td>1760</td>\n",
       "      <td>1760</td>\n",
       "    </tr>\n",
       "  </tbody>\n",
       "</table>\n",
       "</div>"
      ],
      "text/plain": [
       "         Word      Lemma\n",
       "0         his        his\n",
       "1         own        own\n",
       "2     history    history\n",
       "3        with       with\n",
       "4          an         an\n",
       "5    interest   interest\n",
       "6       which      which\n",
       "7       never      never\n",
       "8      failed       fail\n",
       "9        this       this\n",
       "10        was         be\n",
       "11        the        the\n",
       "12       page       page\n",
       "13         at         at\n",
       "14      which      which\n",
       "15        the        the\n",
       "16  favourite  favourite\n",
       "17     volume     volume\n",
       "18     always     always\n",
       "19     opened       open\n",
       "20     elliot     elliot\n",
       "21         of         of\n",
       "22   kellynch   kellynch\n",
       "23       hall       hall\n",
       "24     walter     walter\n",
       "25     elliot     elliot\n",
       "26       born       born\n",
       "27      march      march\n",
       "28          1          1\n",
       "29       1760       1760"
      ]
     },
     "metadata": {},
     "output_type": "display_data"
    }
   ],
   "source": [
    "\n",
    "\n",
    "\n",
    "#This dictionary is used for the mapping between the postags of the ntlk function and the postags of the wordnet .\n",
    "tag_dict = {\"J\": wordnet.ADJ,\n",
    "            \"N\": wordnet.NOUN,\n",
    "            \"V\": wordnet.VERB,\n",
    "            \"R\": wordnet.ADV}\n",
    "\n",
    "#Object of the class WordNetLemmatizer\n",
    "lemmatizer = WordNetLemmatizer()\n",
    "\n",
    "#Define a tokenizer in order to tokenize our corpus without considering the punctuation\n",
    "tokenizer = RegexpTokenizer(r'\\w+')\n",
    "corpus_tokenized = tokenizer.tokenize(corpus)\n",
    "lemma = []\n",
    "words = []\n",
    "# Only for testing we consider the range [100-130]\n",
    "for token in corpus_tokenized[100:130]:\n",
    "  words.append(token.lower())\n",
    "  #For computing the tag given a word we use the built-in function of nltk.\n",
    "  tag_token = nltk.pos_tag([token])[0][1][0].upper() \n",
    "  #We compute the lemma with the object lemmatizer where in input we have the word and the tag associated.\n",
    "  lemma.append(lemmatizer.lemmatize(token.lower(),tag_dict.get(tag_token,wordnet.NOUN))) \n",
    "\n",
    "#We construct a list of tuples.\n",
    "data = list(zip(words,lemma)) \n",
    "\n",
    "df_lemma_stems = pd.DataFrame(data,columns=[\"Word\",\"Lemma\"])\n",
    "\n",
    "display(df_lemma_stems)\n",
    "  \n",
    "\n",
    "\n"
   ]
  },
  {
   "cell_type": "markdown",
   "metadata": {
    "id": "Ea-RVotky__s"
   },
   "source": [
    "## **Stemming**\n",
    "Stemming refers to the process of slicing a word with the intention of\n",
    "removing affixes. <br>\n",
    "To do the stemming we use the porter algorithm already present in NLTK. Once the PorterStemmer object is instantiated, for each word of the corpus the `PorterStemmer.stem(word)` method is used, where `word` is the word for which the stem is to be obtained.\n",
    "\n",
    "\n",
    "\n",
    "```\n",
    "# OUTPUT of the first 20 words\n",
    "         Word      Lemma      Stem\n",
    "0         his        his        hi\n",
    "1         own        own       own\n",
    "2     history    history   histori\n",
    "3        with       with      with\n",
    "4          an         an        an\n",
    "5    interest   interest  interest\n",
    "6       which      which     which\n",
    "7       never      never     never\n",
    "8      failed       fail      fail\n",
    "9        this       this       thi\n",
    "10        was         be        wa\n",
    "11        the        the       the\n",
    "12       page       page      page\n",
    "13         at         at        at\n",
    "14      which      which     which\n",
    "15        the        the       the\n",
    "16  favourite  favourite  favourit\n",
    "17     volume     volume     volum\n",
    "18     always     always     alway\n",
    "19     opened       open      open\n",
    "20     elliot     elliot    elliot\n",
    "21         of         of        of\n",
    "22   kellynch   kellynch  kellynch\n",
    "23       hall       hall      hall\n",
    "24     walter     walter    walter\n",
    "25     elliot     elliot    elliot\n",
    "26       born       born      born\n",
    "27      march      march     march\n",
    "28          1          1         1\n",
    "29       1760       1760      1760\n",
    "```\n",
    "\n"
   ]
  },
  {
   "cell_type": "code",
   "execution_count": 9,
   "metadata": {
    "colab": {
     "base_uri": "https://localhost:8080/",
     "height": 990
    },
    "executionInfo": {
     "elapsed": 362,
     "status": "ok",
     "timestamp": 1671809037826,
     "user": {
      "displayName": "Vincenzo Mele",
      "userId": "17409443190495227527"
     },
     "user_tz": -60
    },
    "id": "BYUvFobOynje",
    "outputId": "6c561e1c-f26e-4c7b-b3d3-65612b709a2c"
   },
   "outputs": [
    {
     "data": {
      "text/html": [
       "<div>\n",
       "<style scoped>\n",
       "    .dataframe tbody tr th:only-of-type {\n",
       "        vertical-align: middle;\n",
       "    }\n",
       "\n",
       "    .dataframe tbody tr th {\n",
       "        vertical-align: top;\n",
       "    }\n",
       "\n",
       "    .dataframe thead th {\n",
       "        text-align: right;\n",
       "    }\n",
       "</style>\n",
       "<table border=\"1\" class=\"dataframe\">\n",
       "  <thead>\n",
       "    <tr style=\"text-align: right;\">\n",
       "      <th></th>\n",
       "      <th>Word</th>\n",
       "      <th>Lemma</th>\n",
       "      <th>Stem</th>\n",
       "    </tr>\n",
       "  </thead>\n",
       "  <tbody>\n",
       "    <tr>\n",
       "      <th>0</th>\n",
       "      <td>his</td>\n",
       "      <td>his</td>\n",
       "      <td>hi</td>\n",
       "    </tr>\n",
       "    <tr>\n",
       "      <th>1</th>\n",
       "      <td>own</td>\n",
       "      <td>own</td>\n",
       "      <td>own</td>\n",
       "    </tr>\n",
       "    <tr>\n",
       "      <th>2</th>\n",
       "      <td>history</td>\n",
       "      <td>history</td>\n",
       "      <td>histori</td>\n",
       "    </tr>\n",
       "    <tr>\n",
       "      <th>3</th>\n",
       "      <td>with</td>\n",
       "      <td>with</td>\n",
       "      <td>with</td>\n",
       "    </tr>\n",
       "    <tr>\n",
       "      <th>4</th>\n",
       "      <td>an</td>\n",
       "      <td>an</td>\n",
       "      <td>an</td>\n",
       "    </tr>\n",
       "    <tr>\n",
       "      <th>5</th>\n",
       "      <td>interest</td>\n",
       "      <td>interest</td>\n",
       "      <td>interest</td>\n",
       "    </tr>\n",
       "    <tr>\n",
       "      <th>6</th>\n",
       "      <td>which</td>\n",
       "      <td>which</td>\n",
       "      <td>which</td>\n",
       "    </tr>\n",
       "    <tr>\n",
       "      <th>7</th>\n",
       "      <td>never</td>\n",
       "      <td>never</td>\n",
       "      <td>never</td>\n",
       "    </tr>\n",
       "    <tr>\n",
       "      <th>8</th>\n",
       "      <td>failed</td>\n",
       "      <td>fail</td>\n",
       "      <td>fail</td>\n",
       "    </tr>\n",
       "    <tr>\n",
       "      <th>9</th>\n",
       "      <td>this</td>\n",
       "      <td>this</td>\n",
       "      <td>thi</td>\n",
       "    </tr>\n",
       "    <tr>\n",
       "      <th>10</th>\n",
       "      <td>was</td>\n",
       "      <td>be</td>\n",
       "      <td>wa</td>\n",
       "    </tr>\n",
       "    <tr>\n",
       "      <th>11</th>\n",
       "      <td>the</td>\n",
       "      <td>the</td>\n",
       "      <td>the</td>\n",
       "    </tr>\n",
       "    <tr>\n",
       "      <th>12</th>\n",
       "      <td>page</td>\n",
       "      <td>page</td>\n",
       "      <td>page</td>\n",
       "    </tr>\n",
       "    <tr>\n",
       "      <th>13</th>\n",
       "      <td>at</td>\n",
       "      <td>at</td>\n",
       "      <td>at</td>\n",
       "    </tr>\n",
       "    <tr>\n",
       "      <th>14</th>\n",
       "      <td>which</td>\n",
       "      <td>which</td>\n",
       "      <td>which</td>\n",
       "    </tr>\n",
       "    <tr>\n",
       "      <th>15</th>\n",
       "      <td>the</td>\n",
       "      <td>the</td>\n",
       "      <td>the</td>\n",
       "    </tr>\n",
       "    <tr>\n",
       "      <th>16</th>\n",
       "      <td>favourite</td>\n",
       "      <td>favourite</td>\n",
       "      <td>favourit</td>\n",
       "    </tr>\n",
       "    <tr>\n",
       "      <th>17</th>\n",
       "      <td>volume</td>\n",
       "      <td>volume</td>\n",
       "      <td>volum</td>\n",
       "    </tr>\n",
       "    <tr>\n",
       "      <th>18</th>\n",
       "      <td>always</td>\n",
       "      <td>always</td>\n",
       "      <td>alway</td>\n",
       "    </tr>\n",
       "    <tr>\n",
       "      <th>19</th>\n",
       "      <td>opened</td>\n",
       "      <td>open</td>\n",
       "      <td>open</td>\n",
       "    </tr>\n",
       "    <tr>\n",
       "      <th>20</th>\n",
       "      <td>elliot</td>\n",
       "      <td>elliot</td>\n",
       "      <td>elliot</td>\n",
       "    </tr>\n",
       "    <tr>\n",
       "      <th>21</th>\n",
       "      <td>of</td>\n",
       "      <td>of</td>\n",
       "      <td>of</td>\n",
       "    </tr>\n",
       "    <tr>\n",
       "      <th>22</th>\n",
       "      <td>kellynch</td>\n",
       "      <td>kellynch</td>\n",
       "      <td>kellynch</td>\n",
       "    </tr>\n",
       "    <tr>\n",
       "      <th>23</th>\n",
       "      <td>hall</td>\n",
       "      <td>hall</td>\n",
       "      <td>hall</td>\n",
       "    </tr>\n",
       "    <tr>\n",
       "      <th>24</th>\n",
       "      <td>walter</td>\n",
       "      <td>walter</td>\n",
       "      <td>walter</td>\n",
       "    </tr>\n",
       "    <tr>\n",
       "      <th>25</th>\n",
       "      <td>elliot</td>\n",
       "      <td>elliot</td>\n",
       "      <td>elliot</td>\n",
       "    </tr>\n",
       "    <tr>\n",
       "      <th>26</th>\n",
       "      <td>born</td>\n",
       "      <td>born</td>\n",
       "      <td>born</td>\n",
       "    </tr>\n",
       "    <tr>\n",
       "      <th>27</th>\n",
       "      <td>march</td>\n",
       "      <td>march</td>\n",
       "      <td>march</td>\n",
       "    </tr>\n",
       "    <tr>\n",
       "      <th>28</th>\n",
       "      <td>1</td>\n",
       "      <td>1</td>\n",
       "      <td>1</td>\n",
       "    </tr>\n",
       "    <tr>\n",
       "      <th>29</th>\n",
       "      <td>1760</td>\n",
       "      <td>1760</td>\n",
       "      <td>1760</td>\n",
       "    </tr>\n",
       "  </tbody>\n",
       "</table>\n",
       "</div>"
      ],
      "text/plain": [
       "         Word      Lemma      Stem\n",
       "0         his        his        hi\n",
       "1         own        own       own\n",
       "2     history    history   histori\n",
       "3        with       with      with\n",
       "4          an         an        an\n",
       "5    interest   interest  interest\n",
       "6       which      which     which\n",
       "7       never      never     never\n",
       "8      failed       fail      fail\n",
       "9        this       this       thi\n",
       "10        was         be        wa\n",
       "11        the        the       the\n",
       "12       page       page      page\n",
       "13         at         at        at\n",
       "14      which      which     which\n",
       "15        the        the       the\n",
       "16  favourite  favourite  favourit\n",
       "17     volume     volume     volum\n",
       "18     always     always     alway\n",
       "19     opened       open      open\n",
       "20     elliot     elliot    elliot\n",
       "21         of         of        of\n",
       "22   kellynch   kellynch  kellynch\n",
       "23       hall       hall      hall\n",
       "24     walter     walter    walter\n",
       "25     elliot     elliot    elliot\n",
       "26       born       born      born\n",
       "27      march      march     march\n",
       "28          1          1         1\n",
       "29       1760       1760      1760"
      ]
     },
     "metadata": {},
     "output_type": "display_data"
    }
   ],
   "source": [
    "porter_stemmer  = PorterStemmer()\n",
    "stems = []\n",
    "for token in corpus_tokenized[100:130]:\n",
    "  stems.append(porter_stemmer.stem(token.lower()))\n",
    "\n",
    "df_lemma_stems[\"Stem\"] = stems\n",
    "\n",
    "display(df_lemma_stems)"
   ]
  },
  {
   "cell_type": "markdown",
   "metadata": {
    "id": "5FWPoJD53Wie"
   },
   "source": [
    "# **2° Assignment: Sentiment Analysis**\n",
    "\n",
    "It is a classification problem whose goal is to extract positive or negative orientations that a writer expresses toward some object like a review of a movie, book, or product on the web and etc.\n",
    "\n",
    "\n",
    "---\n",
    "\n"
   ]
  },
  {
   "cell_type": "markdown",
   "metadata": {
    "id": "E0N2qJZBxyCw"
   },
   "source": [
    "## **Naive Bayes**\n",
    "In order to do sentiment analysis, we use a **Nayve Bayes classifier**, where the goal is:\n",
    "\n",
    "\\begin{align}\n",
    "\\widehat{c}=\\underset{c  \\in C}{\\mathrm{argmax}}\\;P(c|d)=\\underset{c  \\in C}{\\mathrm{argmax}}\\;  \\frac{P(d|c)P(c)}{P(d)}= \\underset{c  \\in C}{\\mathrm{argmax}}\\;P(d|c)P(c)\n",
    "\\end{align}\n",
    "Where:\n",
    "- $C$ is the set of classes.\n",
    "- $c$ is the class\n",
    "- $d$ is the document, in our case is the tweet.\n",
    "\n",
    "i.e, we want to find the $\\widehat{c}$ class that maximizes posterior probability.\n",
    "\n",
    "Naïve Bayes makes the independence assumption between features associated witheach class:\n",
    "\n",
    "\\begin{align}\n",
    "P(f_1,f_2,...,f_n|c)=P(f_1|c)P(f_2|c)...P(f_n|c)\n",
    "\\end{align}\n",
    "\n",
    "So we have:\n",
    "\n",
    "\\begin{align}\n",
    "C_{nb}=\\underset{c  \\in C}{\\mathrm{argmax}}\\;P(c) \\prod_f p(f|c)\n",
    "\\end{align}\n",
    "\n",
    "To apply NB to text:\n",
    "\n",
    "\\begin{align}\n",
    "C_{nb}=\\underset{c  \\in C}{\\mathrm{argmax}}\\;P(c) \\prod_{i \\in positions} p(f|c)\n",
    "\\end{align}\n",
    "\n"
   ]
  },
  {
   "cell_type": "markdown",
   "metadata": {
    "id": "LPBNDgQUy3Wx"
   },
   "source": [
    "### **PREPROCESSING**\n",
    "\n",
    "We defined a preprocessing function, called `preprocessing(tweet)`, that given a tweet returns a preprocessed list of words that compose it.\n",
    "### **Preprocessing tasks**\n",
    "- We remove **urls** using a regular expression.\n",
    "- We use TweetTokenizer object with wich we can do the tokenization and the lower case.\n",
    "- We remove the stop words, punctuation and proper names creating sets of these elements and verifying that tokens are not present in these sets.\n",
    "\n",
    "\n",
    "**Example**\n",
    "```\n",
    "#INPUT\n",
    "sample = \"@JetBlue Great flight, as always! Thank you to the great crew on flight 475! # travel #jetblue\"\n",
    "\n",
    "#EXPECTED OUTPUT\n",
    "['great',\n",
    " 'flight',\n",
    " 'alway',\n",
    " 'thank',\n",
    " 'great',\n",
    " 'crew',\n",
    " 'flight',\n",
    " '475',\n",
    " 'travel',\n",
    " '#jetblu']\n",
    "```\n",
    "\n",
    "\n"
   ]
  },
  {
   "cell_type": "code",
   "execution_count": 10,
   "metadata": {
    "id": "OdPblcfk0L1z"
   },
   "outputs": [],
   "source": [
    "def preprocessing(tweet):\n",
    "  #REMOVE URL\n",
    "  tweet_nourls = re.sub(r\"http\\S+\", \"\", tweet)\n",
    "\n",
    "  #TOKENIZE AND LOWERCASE\n",
    "  '''\n",
    "  * preserve_case (bool) – Flag indicating whether to preserve the casing (capitalisation) of text used in the tokenize method. Defaults to True.\n",
    "  * reduce_len (bool) – Flag indicating whether to replace repeated character sequences of length 3 or greater with sequences of length 3. Defaults to False.\n",
    "  * strip_handles (bool) – Flag indicating whether to remove Twitter handles of text used in the tokenize method. Defaults to False.\n",
    "  '''\n",
    "  tokenizer = TweetTokenizer(preserve_case = False, strip_handles=True, reduce_len=True)\n",
    "  tweet_tokens = tokenizer.tokenize(tweet_nourls)\n",
    "\n",
    "  #REMOVE STOP WORDS, PUNCTUATION AND NAMES\n",
    "  Stopwords = stopwords.words('english')\n",
    "  Punctuation = list(punctuation)\n",
    "  male_female = names.words('male.txt') + names.words('female.txt')\n",
    "  clean_tweets = []\n",
    "  porter_stemmer  = PorterStemmer()\n",
    "  for token in tweet_tokens:\n",
    "    if (token not in Stopwords and token not in Punctuation and token not in male_female):\n",
    "      clean_tweets.append(porter_stemmer.stem(token))\n",
    "\n",
    "  return clean_tweets"
   ]
  },
  {
   "cell_type": "markdown",
   "metadata": {
    "id": "Qh0RrqZD0TBG"
   },
   "source": [
    "### **Bag_of_words**\n",
    "We define a function which performs feature extraction, called `bag_of_words(tweet)`, that given a tweet as input returns the dictionary formed by the key-value pairs, where the keys are the preprocessed tweet words and the value is set to TRUE if the key is to be considered by the model, FALSE otherwise.\n",
    "\n",
    "**NB**: in this we set everything to **TRUE** because we implicitly remove the **FALSE** words (with preprocessing)\n",
    "\n",
    "\n",
    "**Example**\n",
    "```\n",
    "#INPUT\n",
    "sample = \"@JetBlue Great flight, as always! Thank you to the great crew on flight 475! # travel #jetblue\"\n",
    "\n",
    "#OUTPUT\n",
    "{'great': True,\n",
    " 'flight': True,\n",
    " 'alway': True,\n",
    " 'thank': True,\n",
    " 'crew': True,\n",
    " '475': True,\n",
    " 'travel': True,\n",
    " '#jetblu': True}\n",
    "```\n",
    "\n"
   ]
  },
  {
   "cell_type": "code",
   "execution_count": 11,
   "metadata": {
    "id": "avUhMEo1ttPn"
   },
   "outputs": [],
   "source": [
    "#feature extractor function\n",
    "def bag_of_words(tweet):\n",
    "  words = preprocessing(tweet)\n",
    "  #TRUE = the word must be considered by the algorithm\n",
    "  words_dictionary = dict([word, True] for word in words)\n",
    "  return words_dictionary\n"
   ]
  },
  {
   "cell_type": "markdown",
   "metadata": {
    "id": "Cwv9OOrsCwV5"
   },
   "source": [
    "### **Training Set and Test Set** \n",
    "Once we define the functions that allow us to prepare the input that we give to the Naive Bayes model implemented by NLTK, we create an unique set formed by the pairs (tweet, label), and after splits this into:\n",
    "\n",
    "\n",
    "*   75% Training set\n",
    "*   15% Test set, where divide into 5 subsets.\n",
    "\n",
    "We use the tweets defined by the nltk and the tweets present in a csv file."
   ]
  },
  {
   "cell_type": "code",
   "execution_count": 12,
   "metadata": {
    "id": "MniV7AlbCH_-"
   },
   "outputs": [],
   "source": [
    "pos_tweets_set = []\n",
    "neg_tweets_set = []\n",
    "\n",
    "positive_t = twitter_samples.strings('positive_tweets.json')\n",
    "negative_t = twitter_samples.strings('negative_tweets.json')\n",
    "\n",
    "for tweet in positive_t:\n",
    "  pos_tweets_set.append((bag_of_words(tweet),'pos'))\n",
    "for tweet in negative_t:\n",
    "  neg_tweets_set.append((bag_of_words(tweet),'neg'))\n",
    "\n",
    "with open(\"./test_sets.csv\") as csvfile:\n",
    "  reader = csv.reader(csvfile, delimiter = \",\")\n",
    "  for row in reader:\n",
    "    if row[0] == 'negative':\n",
    "      neg_tweets_set.append((bag_of_words(row[1]),'neg'))\n",
    "    else:\n",
    "      pos_tweets_set.append((bag_of_words(row[1]),'pos'))\n",
    "\n",
    "tweets_set = pos_tweets_set + neg_tweets_set"
   ]
  },
  {
   "cell_type": "code",
   "execution_count": 13,
   "metadata": {
    "colab": {
     "base_uri": "https://localhost:8080/"
    },
    "executionInfo": {
     "elapsed": 8,
     "status": "ok",
     "timestamp": 1671809140855,
     "user": {
      "displayName": "Vincenzo Mele",
      "userId": "17409443190495227527"
     },
     "user_tz": -60
    },
    "id": "djlaXHsruiiG",
    "outputId": "7838c3af-9bc1-4a6e-88dc-7fb2e5eb21b9"
   },
   "outputs": [
    {
     "name": "stdout",
     "output_type": "stream",
     "text": [
      "\tTABLE EXAMPLE\n",
      "                                             FEATURE LABEL\n",
      "0  (#followfriday, top, engag, member, commun, we...   pos\n",
      "1  (someth, weekend, here', bodi, weight, workout...   pos\n",
      "2   (new, f, dfw, clt, morn, great, job, well, done)   pos\n",
      "3                                (hopeless, tmr, :()   neg\n",
      "4  (better, train, support, staff, appropri, deco...   neg\n",
      "5          (board, plane, know, maint, issu, us5235)   neg\n"
     ]
    }
   ],
   "source": [
    "\n",
    "from nltk.inference import tableau\n",
    "\n",
    "#keys: we want just print keys without \"true\" or \"false\" values of dictionaries\n",
    "dict_feature = {\n",
    "    \"FEATURE\": [pos_tweets_set[0][0].keys(), pos_tweets_set[int(len(pos_tweets_set)/2)][0].keys(), pos_tweets_set[len(pos_tweets_set)-1][0].keys(), neg_tweets_set[0][0].keys(), neg_tweets_set[int(len(neg_tweets_set)/2)][0].keys(),neg_tweets_set[len(neg_tweets_set)-1][0].keys()],\n",
    "    \"LABEL\": [pos_tweets_set[0][1], pos_tweets_set[int(len(pos_tweets_set)/2)][1], pos_tweets_set[len(pos_tweets_set)-1][1], neg_tweets_set[0][1], neg_tweets_set[int(len(neg_tweets_set)/2)][1], neg_tweets_set[len(neg_tweets_set)-1][1]]\n",
    "}\n",
    "\n",
    "table = pd.DataFrame(data=dict_feature)\n",
    "print(f\"\\tTABLE EXAMPLE\\n{table}\")\n",
    "\n"
   ]
  },
  {
   "cell_type": "code",
   "execution_count": 14,
   "metadata": {
    "id": "mTCzEePHCNAa"
   },
   "outputs": [],
   "source": [
    "#Shuffle the entire set of tweets\n",
    "random.shuffle(tweets_set) \n",
    "\n",
    "#75% of the set is given to the training set\n",
    "training_set = tweets_set[:int(len(tweets_set)*0.75)]\n",
    "\n",
    "#15% of the set is given to the test set, and we split this into 5 subsets\n",
    "test_splits = np.array_split(tweets_set[int(len(tweets_set)*0.75):],5)"
   ]
  },
  {
   "cell_type": "markdown",
   "metadata": {
    "id": "wTBO90FM5AUq"
   },
   "source": [
    "### **Training**\n",
    "In order to do NBC training, we do:\n",
    "1. Count up how many times each feature value occurred, given the label and featurename.\n",
    "2. Compute the likelihood for each word.\n",
    "\\begin{align}\n",
    " P(w_i|class) = \\frac{freq(w_i, class) + 1}{N_{class}+V}\n",
    "\\end{align}\n",
    "where: $N_{class}$ is the frequency of all words in class and $V$ is the number of unique words in vocabulary.\n",
    "3. Get $\\lambda(w)$:\n",
    "\\begin{align}\n",
    "\\lambda(w) = \\frac{P(w_i|class_1)}{P(w_i|class_2)} \n",
    "\\end{align} \n",
    "where: $ class_1 = positive$ e $class_2 = negative $\n",
    "4. Compute the prior ratio \n",
    "\\begin{align}\n",
    "\\frac{P(class_1)}{P(class_2)}\n",
    "\\end{align} \n",
    "\n",
    "**Naive Bayes formula for binary classification**: \n",
    "\\begin{align}\n",
    "NB = \\frac{P(class_1)}{P(class_2)} \\prod_{i=1}^{n}\\lambda(w_i)\n",
    "\\end{align} \n",
    "where:\n",
    "- if $NB > 1$ the output label is positive. \n",
    "- else if $NB < 1$ the output label is negative. \n",
    "- else if $NB = 1$ the output label is neutral.\n",
    "\n",
    "To avoid multiplications among very small value we apply the **logarithmic transformation**.\n",
    "\\begin{align}\n",
    "log\\frac{P(class_1)}{P(class_2)} + \\sum_{i=1}^n log\\frac{P(w_i|class_1)}{P(w_i|class_2)} \n",
    "\\end{align} "
   ]
  },
  {
   "cell_type": "code",
   "execution_count": 15,
   "metadata": {
    "id": "T0HPwGa_CYGT"
   },
   "outputs": [],
   "source": [
    "#NAIVE BAYES CLASSIFIER\n",
    "NBClassifier = NaiveBayesClassifier.train(training_set)"
   ]
  },
  {
   "cell_type": "markdown",
   "metadata": {
    "id": "49YQtam5uwV5"
   },
   "source": [
    "### **Testing and Evaluation**\n",
    "After training our model, we do the testing using 5 test sets. For each we compute the:\n",
    "* **Confusion Matrix**: a confusion matrix is a table for visualizing how an algorithm performs with respect to the human gold labels\n",
    "* **Precision**: the ratio of correctly classified positive samples (True Positive) to a total number of classified positive samples (either correctly or incorrectly). Is a percentage that tells us how likely the prediction is correct.\n",
    "\\begin{align}\n",
    "\\text{Precision} = \\frac{TP}{TP+FP}\n",
    "\\end{align}\n",
    "* **Recall**:  the ratio between the numbers of Positive samples correctly classified as Positive to the total number of Positive samples. The **recall measures** the model's ability to detect positive samples. The higher the recall, the more positive samples detected.\n",
    "\\begin{align}\n",
    "\\text{Recall} = \\frac{TP}{TP+FN}\n",
    "\\end{align}\n",
    "* **F-measure**: is a measure of a model’s accuracy on a dataset. It is used to evaluate binary classification systems. Is a way of combining the precision and recall of the model, and it is defined as the harmonic mean of the model’s precision and recall. \\begin{align}\n",
    "F_{β}= \\frac{(β^2 + 1) × \\text{Precision} × \\text{Recall}}{{β^2 ×\\text{Precisión} + \\text{Recall}}}\n",
    "\\end{align}\n",
    "Based on the $β$  value, the importance of precision or recall is determined\n",
    "* **Accuracy**: accuracy is one metric for evaluating classification models. Informally, accuracy is the fraction of predictions our model got right. Formally, accuracy has the following definition:\n",
    "\n",
    "\\begin{align}\n",
    "\\text{Accuracy} = \\frac{\\text{Number of correct predictions}}{\\text{Total number of predictions}}\n",
    "\\end{align}\n"
   ]
  },
  {
   "cell_type": "code",
   "execution_count": 16,
   "metadata": {
    "id": "XWpoep8m1cxS"
   },
   "outputs": [],
   "source": [
    "def ComputeConfusionMatrix(predicted_out, real_out):\n",
    "  cm = ConfusionMatrix(predicted_out,real_out)\n",
    "  return cm"
   ]
  },
  {
   "cell_type": "code",
   "execution_count": 17,
   "metadata": {
    "id": "a8wGh3S9JATb"
   },
   "outputs": [],
   "source": [
    "\n",
    "def displayConfusionMatrix(cm):\n",
    "  true_positive = cm[\"pos\",\"pos\"]\n",
    "  false_positive = cm[\"pos\", \"neg\"]\n",
    "  true_negative = cm[\"neg\",\"neg\"]\n",
    "  false_negative = cm[\"neg\",\"pos\"]\n",
    "  matrix = np.array([[true_positive, false_positive], [false_negative, true_negative]])\n",
    "  df_confusionMatrix = pd.DataFrame(matrix, columns=[\"pos\", \"neg\"], index=[\"pos\",\"neg\"])\n",
    "\n",
    "  df_confusionMatrix = df_confusionMatrix.style.set_caption(\"Confusion Matrix\").set_table_styles([{'selector': 'caption',\n",
    "    \"props\":[(\"text-align\", \"center\")]\n",
    "  }])\n",
    "\n",
    "  display(df_confusionMatrix)"
   ]
  },
  {
   "cell_type": "code",
   "execution_count": 18,
   "metadata": {
    "id": "jU06qZYoSb_3"
   },
   "outputs": [],
   "source": [
    "def displayEvaluation(cm,accuracy):\n",
    "  pos_precision = cm.precision(\"pos\")\n",
    "  pos_recall = cm.recall(\"pos\")\n",
    "  neg_precision = cm.precision(\"neg\")\n",
    "  neg_recall = cm.recall(\"neg\")\n",
    "  pos_f_measure = cm.f_measure(\"pos\")\n",
    "  neg_f_measure = cm.f_measure(\"neg\")\n",
    "\n",
    "  evaluation_array = np.array([[pos_precision,pos_recall, pos_f_measure,accuracy], [neg_precision,neg_recall,neg_f_measure,accuracy]])\n",
    "  df_evaluation = pd.DataFrame(evaluation_array,columns=[\"precision\",\"recall\",\"f_measure\",\"accuracy\"],index=[\"pos\",\"neg\"])\n",
    "\n",
    "  df_evaluation = df_evaluation.style.set_caption(\"Evaluations\").set_table_styles([{'selector': 'caption',\n",
    "    \"props\":[(\"text-align\", \"center\")]\n",
    "  }])\n",
    "\n",
    "  display(df_evaluation)\n"
   ]
  },
  {
   "cell_type": "code",
   "execution_count": 19,
   "metadata": {
    "colab": {
     "base_uri": "https://localhost:8080/",
     "height": 1000
    },
    "executionInfo": {
     "elapsed": 806,
     "status": "ok",
     "timestamp": 1671809142342,
     "user": {
      "displayName": "Vincenzo Mele",
      "userId": "17409443190495227527"
     },
     "user_tz": -60
    },
    "id": "0iflc11fCjKL",
    "outputId": "52d5d6b1-445e-40a4-9dcb-747f8120977e"
   },
   "outputs": [
    {
     "data": {
      "text/html": [
       "<style type=\"text/css\">\n",
       "#T_e6891 caption {\n",
       "  text-align: center;\n",
       "}\n",
       "</style>\n",
       "<table id=\"T_e6891\">\n",
       "  <caption>Confusion Matrix</caption>\n",
       "  <thead>\n",
       "    <tr>\n",
       "      <th class=\"blank level0\" >&nbsp;</th>\n",
       "      <th id=\"T_e6891_level0_col0\" class=\"col_heading level0 col0\" >pos</th>\n",
       "      <th id=\"T_e6891_level0_col1\" class=\"col_heading level0 col1\" >neg</th>\n",
       "    </tr>\n",
       "  </thead>\n",
       "  <tbody>\n",
       "    <tr>\n",
       "      <th id=\"T_e6891_level0_row0\" class=\"row_heading level0 row0\" >pos</th>\n",
       "      <td id=\"T_e6891_row0_col0\" class=\"data row0 col0\" >285</td>\n",
       "      <td id=\"T_e6891_row0_col1\" class=\"data row0 col1\" >5</td>\n",
       "    </tr>\n",
       "    <tr>\n",
       "      <th id=\"T_e6891_level0_row1\" class=\"row_heading level0 row1\" >neg</th>\n",
       "      <td id=\"T_e6891_row1_col0\" class=\"data row1 col0\" >52</td>\n",
       "      <td id=\"T_e6891_row1_col1\" class=\"data row1 col1\" >538</td>\n",
       "    </tr>\n",
       "  </tbody>\n",
       "</table>\n"
      ],
      "text/plain": [
       "<pandas.io.formats.style.Styler at 0x7f79cad686d0>"
      ]
     },
     "metadata": {},
     "output_type": "display_data"
    },
    {
     "data": {
      "text/html": [
       "<style type=\"text/css\">\n",
       "#T_bde16 caption {\n",
       "  text-align: center;\n",
       "}\n",
       "</style>\n",
       "<table id=\"T_bde16\">\n",
       "  <caption>Evaluations</caption>\n",
       "  <thead>\n",
       "    <tr>\n",
       "      <th class=\"blank level0\" >&nbsp;</th>\n",
       "      <th id=\"T_bde16_level0_col0\" class=\"col_heading level0 col0\" >precision</th>\n",
       "      <th id=\"T_bde16_level0_col1\" class=\"col_heading level0 col1\" >recall</th>\n",
       "      <th id=\"T_bde16_level0_col2\" class=\"col_heading level0 col2\" >f_measure</th>\n",
       "      <th id=\"T_bde16_level0_col3\" class=\"col_heading level0 col3\" >accuracy</th>\n",
       "    </tr>\n",
       "  </thead>\n",
       "  <tbody>\n",
       "    <tr>\n",
       "      <th id=\"T_bde16_level0_row0\" class=\"row_heading level0 row0\" >pos</th>\n",
       "      <td id=\"T_bde16_row0_col0\" class=\"data row0 col0\" >0.845697</td>\n",
       "      <td id=\"T_bde16_row0_col1\" class=\"data row0 col1\" >0.982759</td>\n",
       "      <td id=\"T_bde16_row0_col2\" class=\"data row0 col2\" >0.909091</td>\n",
       "      <td id=\"T_bde16_row0_col3\" class=\"data row0 col3\" >0.935227</td>\n",
       "    </tr>\n",
       "    <tr>\n",
       "      <th id=\"T_bde16_level0_row1\" class=\"row_heading level0 row1\" >neg</th>\n",
       "      <td id=\"T_bde16_row1_col0\" class=\"data row1 col0\" >0.990792</td>\n",
       "      <td id=\"T_bde16_row1_col1\" class=\"data row1 col1\" >0.911864</td>\n",
       "      <td id=\"T_bde16_row1_col2\" class=\"data row1 col2\" >0.949691</td>\n",
       "      <td id=\"T_bde16_row1_col3\" class=\"data row1 col3\" >0.935227</td>\n",
       "    </tr>\n",
       "  </tbody>\n",
       "</table>\n"
      ],
      "text/plain": [
       "<pandas.io.formats.style.Styler at 0x7f79c9e53e80>"
      ]
     },
     "metadata": {},
     "output_type": "display_data"
    },
    {
     "data": {
      "text/html": [
       "<style type=\"text/css\">\n",
       "#T_e58f4 caption {\n",
       "  text-align: center;\n",
       "}\n",
       "</style>\n",
       "<table id=\"T_e58f4\">\n",
       "  <caption>Confusion Matrix</caption>\n",
       "  <thead>\n",
       "    <tr>\n",
       "      <th class=\"blank level0\" >&nbsp;</th>\n",
       "      <th id=\"T_e58f4_level0_col0\" class=\"col_heading level0 col0\" >pos</th>\n",
       "      <th id=\"T_e58f4_level0_col1\" class=\"col_heading level0 col1\" >neg</th>\n",
       "    </tr>\n",
       "  </thead>\n",
       "  <tbody>\n",
       "    <tr>\n",
       "      <th id=\"T_e58f4_level0_row0\" class=\"row_heading level0 row0\" >pos</th>\n",
       "      <td id=\"T_e58f4_row0_col0\" class=\"data row0 col0\" >301</td>\n",
       "      <td id=\"T_e58f4_row0_col1\" class=\"data row0 col1\" >7</td>\n",
       "    </tr>\n",
       "    <tr>\n",
       "      <th id=\"T_e58f4_level0_row1\" class=\"row_heading level0 row1\" >neg</th>\n",
       "      <td id=\"T_e58f4_row1_col0\" class=\"data row1 col0\" >41</td>\n",
       "      <td id=\"T_e58f4_row1_col1\" class=\"data row1 col1\" >531</td>\n",
       "    </tr>\n",
       "  </tbody>\n",
       "</table>\n"
      ],
      "text/plain": [
       "<pandas.io.formats.style.Styler at 0x7f79cad686d0>"
      ]
     },
     "metadata": {},
     "output_type": "display_data"
    },
    {
     "data": {
      "text/html": [
       "<style type=\"text/css\">\n",
       "#T_b3aaf caption {\n",
       "  text-align: center;\n",
       "}\n",
       "</style>\n",
       "<table id=\"T_b3aaf\">\n",
       "  <caption>Evaluations</caption>\n",
       "  <thead>\n",
       "    <tr>\n",
       "      <th class=\"blank level0\" >&nbsp;</th>\n",
       "      <th id=\"T_b3aaf_level0_col0\" class=\"col_heading level0 col0\" >precision</th>\n",
       "      <th id=\"T_b3aaf_level0_col1\" class=\"col_heading level0 col1\" >recall</th>\n",
       "      <th id=\"T_b3aaf_level0_col2\" class=\"col_heading level0 col2\" >f_measure</th>\n",
       "      <th id=\"T_b3aaf_level0_col3\" class=\"col_heading level0 col3\" >accuracy</th>\n",
       "    </tr>\n",
       "  </thead>\n",
       "  <tbody>\n",
       "    <tr>\n",
       "      <th id=\"T_b3aaf_level0_row0\" class=\"row_heading level0 row0\" >pos</th>\n",
       "      <td id=\"T_b3aaf_row0_col0\" class=\"data row0 col0\" >0.880117</td>\n",
       "      <td id=\"T_b3aaf_row0_col1\" class=\"data row0 col1\" >0.977273</td>\n",
       "      <td id=\"T_b3aaf_row0_col2\" class=\"data row0 col2\" >0.926154</td>\n",
       "      <td id=\"T_b3aaf_row0_col3\" class=\"data row0 col3\" >0.945455</td>\n",
       "    </tr>\n",
       "    <tr>\n",
       "      <th id=\"T_b3aaf_level0_row1\" class=\"row_heading level0 row1\" >neg</th>\n",
       "      <td id=\"T_b3aaf_row1_col0\" class=\"data row1 col0\" >0.986989</td>\n",
       "      <td id=\"T_b3aaf_row1_col1\" class=\"data row1 col1\" >0.928322</td>\n",
       "      <td id=\"T_b3aaf_row1_col2\" class=\"data row1 col2\" >0.956757</td>\n",
       "      <td id=\"T_b3aaf_row1_col3\" class=\"data row1 col3\" >0.945455</td>\n",
       "    </tr>\n",
       "  </tbody>\n",
       "</table>\n"
      ],
      "text/plain": [
       "<pandas.io.formats.style.Styler at 0x7f7a0d2cf970>"
      ]
     },
     "metadata": {},
     "output_type": "display_data"
    },
    {
     "data": {
      "text/html": [
       "<style type=\"text/css\">\n",
       "#T_75a71 caption {\n",
       "  text-align: center;\n",
       "}\n",
       "</style>\n",
       "<table id=\"T_75a71\">\n",
       "  <caption>Confusion Matrix</caption>\n",
       "  <thead>\n",
       "    <tr>\n",
       "      <th class=\"blank level0\" >&nbsp;</th>\n",
       "      <th id=\"T_75a71_level0_col0\" class=\"col_heading level0 col0\" >pos</th>\n",
       "      <th id=\"T_75a71_level0_col1\" class=\"col_heading level0 col1\" >neg</th>\n",
       "    </tr>\n",
       "  </thead>\n",
       "  <tbody>\n",
       "    <tr>\n",
       "      <th id=\"T_75a71_level0_row0\" class=\"row_heading level0 row0\" >pos</th>\n",
       "      <td id=\"T_75a71_row0_col0\" class=\"data row0 col0\" >296</td>\n",
       "      <td id=\"T_75a71_row0_col1\" class=\"data row0 col1\" >5</td>\n",
       "    </tr>\n",
       "    <tr>\n",
       "      <th id=\"T_75a71_level0_row1\" class=\"row_heading level0 row1\" >neg</th>\n",
       "      <td id=\"T_75a71_row1_col0\" class=\"data row1 col0\" >42</td>\n",
       "      <td id=\"T_75a71_row1_col1\" class=\"data row1 col1\" >537</td>\n",
       "    </tr>\n",
       "  </tbody>\n",
       "</table>\n"
      ],
      "text/plain": [
       "<pandas.io.formats.style.Styler at 0x7f79e8162070>"
      ]
     },
     "metadata": {},
     "output_type": "display_data"
    },
    {
     "data": {
      "text/html": [
       "<style type=\"text/css\">\n",
       "#T_6e863 caption {\n",
       "  text-align: center;\n",
       "}\n",
       "</style>\n",
       "<table id=\"T_6e863\">\n",
       "  <caption>Evaluations</caption>\n",
       "  <thead>\n",
       "    <tr>\n",
       "      <th class=\"blank level0\" >&nbsp;</th>\n",
       "      <th id=\"T_6e863_level0_col0\" class=\"col_heading level0 col0\" >precision</th>\n",
       "      <th id=\"T_6e863_level0_col1\" class=\"col_heading level0 col1\" >recall</th>\n",
       "      <th id=\"T_6e863_level0_col2\" class=\"col_heading level0 col2\" >f_measure</th>\n",
       "      <th id=\"T_6e863_level0_col3\" class=\"col_heading level0 col3\" >accuracy</th>\n",
       "    </tr>\n",
       "  </thead>\n",
       "  <tbody>\n",
       "    <tr>\n",
       "      <th id=\"T_6e863_level0_row0\" class=\"row_heading level0 row0\" >pos</th>\n",
       "      <td id=\"T_6e863_row0_col0\" class=\"data row0 col0\" >0.875740</td>\n",
       "      <td id=\"T_6e863_row0_col1\" class=\"data row0 col1\" >0.983389</td>\n",
       "      <td id=\"T_6e863_row0_col2\" class=\"data row0 col2\" >0.926448</td>\n",
       "      <td id=\"T_6e863_row0_col3\" class=\"data row0 col3\" >0.946591</td>\n",
       "    </tr>\n",
       "    <tr>\n",
       "      <th id=\"T_6e863_level0_row1\" class=\"row_heading level0 row1\" >neg</th>\n",
       "      <td id=\"T_6e863_row1_col0\" class=\"data row1 col0\" >0.990775</td>\n",
       "      <td id=\"T_6e863_row1_col1\" class=\"data row1 col1\" >0.927461</td>\n",
       "      <td id=\"T_6e863_row1_col2\" class=\"data row1 col2\" >0.958073</td>\n",
       "      <td id=\"T_6e863_row1_col3\" class=\"data row1 col3\" >0.946591</td>\n",
       "    </tr>\n",
       "  </tbody>\n",
       "</table>\n"
      ],
      "text/plain": [
       "<pandas.io.formats.style.Styler at 0x7f7a0d2cf0d0>"
      ]
     },
     "metadata": {},
     "output_type": "display_data"
    },
    {
     "data": {
      "text/html": [
       "<style type=\"text/css\">\n",
       "#T_b6875 caption {\n",
       "  text-align: center;\n",
       "}\n",
       "</style>\n",
       "<table id=\"T_b6875\">\n",
       "  <caption>Confusion Matrix</caption>\n",
       "  <thead>\n",
       "    <tr>\n",
       "      <th class=\"blank level0\" >&nbsp;</th>\n",
       "      <th id=\"T_b6875_level0_col0\" class=\"col_heading level0 col0\" >pos</th>\n",
       "      <th id=\"T_b6875_level0_col1\" class=\"col_heading level0 col1\" >neg</th>\n",
       "    </tr>\n",
       "  </thead>\n",
       "  <tbody>\n",
       "    <tr>\n",
       "      <th id=\"T_b6875_level0_row0\" class=\"row_heading level0 row0\" >pos</th>\n",
       "      <td id=\"T_b6875_row0_col0\" class=\"data row0 col0\" >303</td>\n",
       "      <td id=\"T_b6875_row0_col1\" class=\"data row0 col1\" >2</td>\n",
       "    </tr>\n",
       "    <tr>\n",
       "      <th id=\"T_b6875_level0_row1\" class=\"row_heading level0 row1\" >neg</th>\n",
       "      <td id=\"T_b6875_row1_col0\" class=\"data row1 col0\" >34</td>\n",
       "      <td id=\"T_b6875_row1_col1\" class=\"data row1 col1\" >540</td>\n",
       "    </tr>\n",
       "  </tbody>\n",
       "</table>\n"
      ],
      "text/plain": [
       "<pandas.io.formats.style.Styler at 0x7f79cad68ee0>"
      ]
     },
     "metadata": {},
     "output_type": "display_data"
    },
    {
     "data": {
      "text/html": [
       "<style type=\"text/css\">\n",
       "#T_d701e caption {\n",
       "  text-align: center;\n",
       "}\n",
       "</style>\n",
       "<table id=\"T_d701e\">\n",
       "  <caption>Evaluations</caption>\n",
       "  <thead>\n",
       "    <tr>\n",
       "      <th class=\"blank level0\" >&nbsp;</th>\n",
       "      <th id=\"T_d701e_level0_col0\" class=\"col_heading level0 col0\" >precision</th>\n",
       "      <th id=\"T_d701e_level0_col1\" class=\"col_heading level0 col1\" >recall</th>\n",
       "      <th id=\"T_d701e_level0_col2\" class=\"col_heading level0 col2\" >f_measure</th>\n",
       "      <th id=\"T_d701e_level0_col3\" class=\"col_heading level0 col3\" >accuracy</th>\n",
       "    </tr>\n",
       "  </thead>\n",
       "  <tbody>\n",
       "    <tr>\n",
       "      <th id=\"T_d701e_level0_row0\" class=\"row_heading level0 row0\" >pos</th>\n",
       "      <td id=\"T_d701e_row0_col0\" class=\"data row0 col0\" >0.899110</td>\n",
       "      <td id=\"T_d701e_row0_col1\" class=\"data row0 col1\" >0.993443</td>\n",
       "      <td id=\"T_d701e_row0_col2\" class=\"data row0 col2\" >0.943925</td>\n",
       "      <td id=\"T_d701e_row0_col3\" class=\"data row0 col3\" >0.959044</td>\n",
       "    </tr>\n",
       "    <tr>\n",
       "      <th id=\"T_d701e_level0_row1\" class=\"row_heading level0 row1\" >neg</th>\n",
       "      <td id=\"T_d701e_row1_col0\" class=\"data row1 col0\" >0.996310</td>\n",
       "      <td id=\"T_d701e_row1_col1\" class=\"data row1 col1\" >0.940767</td>\n",
       "      <td id=\"T_d701e_row1_col2\" class=\"data row1 col2\" >0.967742</td>\n",
       "      <td id=\"T_d701e_row1_col3\" class=\"data row1 col3\" >0.959044</td>\n",
       "    </tr>\n",
       "  </tbody>\n",
       "</table>\n"
      ],
      "text/plain": [
       "<pandas.io.formats.style.Styler at 0x7f79cad686d0>"
      ]
     },
     "metadata": {},
     "output_type": "display_data"
    },
    {
     "data": {
      "text/html": [
       "<style type=\"text/css\">\n",
       "#T_db44a caption {\n",
       "  text-align: center;\n",
       "}\n",
       "</style>\n",
       "<table id=\"T_db44a\">\n",
       "  <caption>Confusion Matrix</caption>\n",
       "  <thead>\n",
       "    <tr>\n",
       "      <th class=\"blank level0\" >&nbsp;</th>\n",
       "      <th id=\"T_db44a_level0_col0\" class=\"col_heading level0 col0\" >pos</th>\n",
       "      <th id=\"T_db44a_level0_col1\" class=\"col_heading level0 col1\" >neg</th>\n",
       "    </tr>\n",
       "  </thead>\n",
       "  <tbody>\n",
       "    <tr>\n",
       "      <th id=\"T_db44a_level0_row0\" class=\"row_heading level0 row0\" >pos</th>\n",
       "      <td id=\"T_db44a_row0_col0\" class=\"data row0 col0\" >315</td>\n",
       "      <td id=\"T_db44a_row0_col1\" class=\"data row0 col1\" >4</td>\n",
       "    </tr>\n",
       "    <tr>\n",
       "      <th id=\"T_db44a_level0_row1\" class=\"row_heading level0 row1\" >neg</th>\n",
       "      <td id=\"T_db44a_row1_col0\" class=\"data row1 col0\" >46</td>\n",
       "      <td id=\"T_db44a_row1_col1\" class=\"data row1 col1\" >514</td>\n",
       "    </tr>\n",
       "  </tbody>\n",
       "</table>\n"
      ],
      "text/plain": [
       "<pandas.io.formats.style.Styler at 0x7f7a0d2cf0d0>"
      ]
     },
     "metadata": {},
     "output_type": "display_data"
    },
    {
     "data": {
      "text/html": [
       "<style type=\"text/css\">\n",
       "#T_8208b caption {\n",
       "  text-align: center;\n",
       "}\n",
       "</style>\n",
       "<table id=\"T_8208b\">\n",
       "  <caption>Evaluations</caption>\n",
       "  <thead>\n",
       "    <tr>\n",
       "      <th class=\"blank level0\" >&nbsp;</th>\n",
       "      <th id=\"T_8208b_level0_col0\" class=\"col_heading level0 col0\" >precision</th>\n",
       "      <th id=\"T_8208b_level0_col1\" class=\"col_heading level0 col1\" >recall</th>\n",
       "      <th id=\"T_8208b_level0_col2\" class=\"col_heading level0 col2\" >f_measure</th>\n",
       "      <th id=\"T_8208b_level0_col3\" class=\"col_heading level0 col3\" >accuracy</th>\n",
       "    </tr>\n",
       "  </thead>\n",
       "  <tbody>\n",
       "    <tr>\n",
       "      <th id=\"T_8208b_level0_row0\" class=\"row_heading level0 row0\" >pos</th>\n",
       "      <td id=\"T_8208b_row0_col0\" class=\"data row0 col0\" >0.872576</td>\n",
       "      <td id=\"T_8208b_row0_col1\" class=\"data row0 col1\" >0.987461</td>\n",
       "      <td id=\"T_8208b_row0_col2\" class=\"data row0 col2\" >0.926471</td>\n",
       "      <td id=\"T_8208b_row0_col3\" class=\"data row0 col3\" >0.943117</td>\n",
       "    </tr>\n",
       "    <tr>\n",
       "      <th id=\"T_8208b_level0_row1\" class=\"row_heading level0 row1\" >neg</th>\n",
       "      <td id=\"T_8208b_row1_col0\" class=\"data row1 col0\" >0.992278</td>\n",
       "      <td id=\"T_8208b_row1_col1\" class=\"data row1 col1\" >0.917857</td>\n",
       "      <td id=\"T_8208b_row1_col2\" class=\"data row1 col2\" >0.953618</td>\n",
       "      <td id=\"T_8208b_row1_col3\" class=\"data row1 col3\" >0.943117</td>\n",
       "    </tr>\n",
       "  </tbody>\n",
       "</table>\n"
      ],
      "text/plain": [
       "<pandas.io.formats.style.Styler at 0x7f7a0d2cf970>"
      ]
     },
     "metadata": {},
     "output_type": "display_data"
    },
    {
     "name": "stdout",
     "output_type": "stream",
     "text": [
      "Accuracy's StdDev:  0.0076824546777852516\n",
      "Accuracy's mean 0.9458868548970937\n"
     ]
    }
   ],
   "source": [
    "acc = []\n",
    "for tweet in test_splits:\n",
    "  acc.append(classify.accuracy(NBClassifier, tweet))\n",
    "  #UNPACKING OPERATOR -> *\n",
    "  # https://www.geeksforgeeks.org/python-get-first-element-of-each-sublist/\n",
    "  pos_neg_tweets = list(list(zip(*tweet))[0]) #Only the tweets\n",
    "  real_out_sets = list(list(zip(*tweet))[1]) # Only the labels\n",
    "  cm = ComputeConfusionMatrix(NBClassifier.classify_many(pos_neg_tweets), real_out_sets)\n",
    "  displayConfusionMatrix(cm)\n",
    "  displayEvaluation(cm,classify.accuracy(NBClassifier, tweet))\n",
    "  \n",
    "accuracy = np.array(acc)\n",
    "print(\"Accuracy's StdDev: \",  accuracy.std())\n",
    "print(\"Accuracy's mean\", accuracy.mean())"
   ]
  },
  {
   "cell_type": "markdown",
   "metadata": {
    "id": "sKEYX4XP8aS-"
   },
   "source": [
    "**Example**\n",
    "\n",
    "Given a new tweet we calculate the probability that it is `'pos'` or `'neg'`."
   ]
  },
  {
   "cell_type": "code",
   "execution_count": 20,
   "metadata": {
    "colab": {
     "base_uri": "https://localhost:8080/"
    },
    "executionInfo": {
     "elapsed": 11,
     "status": "ok",
     "timestamp": 1671809142343,
     "user": {
      "displayName": "Vincenzo Mele",
      "userId": "17409443190495227527"
     },
     "user_tz": -60
    },
    "id": "p4hKdeHJZX7r",
    "outputId": "d52a91de-8dff-463b-d702-01cc02d614d9"
   },
   "outputs": [
    {
     "name": "stdout",
     "output_type": "stream",
     "text": [
      "neg :  The more I use @salesforce the more I dislike it. It's slow and full of bugs. There are elements of the UI that look like they haven't been updated since 2006. Current frustration: app exchange pages won't stop refreshing every 10 seconds\n",
      "Probability of pos:  4.758520150527553e-06\n",
      "Probability of neg:  0.9999952414798519\n"
     ]
    }
   ],
   "source": [
    "tweet = 'The more I use @salesforce the more I dislike it. It\\'s slow and full of bugs. There are elements of the UI that look like they haven\\'t been updated since 2006. Current frustration: app exchange pages won\\'t stop refreshing every 10 seconds'\n",
    "\n",
    "print(NBClassifier.classify(bag_of_words(tweet)), ': ', tweet)\n",
    "prob = NBClassifier.prob_classify(bag_of_words(tweet))\n",
    "print('Probability of pos: ', prob.prob('pos'))\n",
    "print('Probability of neg: ', prob.prob('neg'))"
   ]
  },
  {
   "attachments": {
    "lr.png": {
     "image/png": "[encoded data removed]"
    }
   },
   "cell_type": "markdown",
   "metadata": {
    "id": "7jn80JN_ZRIi"
   },
   "source": [
    "## **LOGISTIC REGRESSION CLASSIFIER**\n",
    "\n",
    "In order to do what is required we import the necessary modules and create two sets of positive and negative tweets using the `twitter_samples` module from NTLK. In this case we use the module LogisticRegression implemented by scikit-learn.\n",
    "\n",
    "### **Logistic or Sigmoid function** \n",
    "Logistic Regression Classifier is based on the sigmoid (or logistic) function that makes use of the sigmoid function which outputs a probability between 0 and 1, i.e:\n",
    "\n",
    "\\begin{align}\n",
    "0 \\leq h_{\\theta}(x) \\leq 1 \n",
    "\\end{align}\n",
    "\n",
    "where: \n",
    "\n",
    "\\begin{align}\n",
    "h_{\\theta}(x) =  g({\\theta}^{T} * x) = \\frac{1}{1+e^{-{\\theta}^T}*x}\n",
    "\\end{align}\n",
    "\n",
    "$g$ is the non-linear, continuous and non-differentiable function.\n",
    "\n",
    "![lr.png](attachment:lr.png)"
   ]
  },
  {
   "cell_type": "markdown",
   "metadata": {
    "id": "qNBBAA969W8y"
   },
   "source": [
    "\n",
    "### **PREPROCESSING**\n",
    "\n",
    "We defined a preprocessing function, called `preprocessingLR(tweet)`, that given a tweet returns a preprocessed tweet.\n",
    "#### **Preprocessing tasks**\n",
    "- We remove **urls** using a regular expression.\n",
    "- We use TweetTokenizer object with wich we can do the tokenization and the lower case.\n",
    "- We remove the stop words, punctuation and proper names creating sets of these elements and verifying that tokens are not present in these sets.\n",
    "\n",
    "\n",
    "**Example**\n",
    "```\n",
    "#INPUT\n",
    "sample = \"@JetBlue Great flight, as always! Thank you to the great crew on flight 475! # travel #jetblue\"\n",
    "\n",
    "#EXPECTED OUTPUT\n",
    "\"great flight alway thank great crew flight 475 travel #jetblu\"\n",
    "```\n",
    "\n",
    "\n"
   ]
  },
  {
   "cell_type": "code",
   "execution_count": 21,
   "metadata": {
    "colab": {
     "base_uri": "https://localhost:8080/",
     "height": 36
    },
    "executionInfo": {
     "elapsed": 9,
     "status": "ok",
     "timestamp": 1671809142343,
     "user": {
      "displayName": "Vincenzo Mele",
      "userId": "17409443190495227527"
     },
     "user_tz": -60
    },
    "id": "s73nm8LwBdix",
    "outputId": "42d1a1fd-9a72-4e25-bd11-485137fec085"
   },
   "outputs": [
    {
     "data": {
      "text/plain": [
       "'great flight alway thank great crew flight 475 travel #jetblu'"
      ]
     },
     "execution_count": 21,
     "metadata": {},
     "output_type": "execute_result"
    }
   ],
   "source": [
    "def preprocessingLR(tweet):\n",
    "  #REMOVE URL\n",
    "  tweet = re.sub(r\"http\\S+\", \"\", tweet)\n",
    "\n",
    "  #TOKENIZE AND LOWERCASE\n",
    "  tokenizer = TweetTokenizer(preserve_case = False, strip_handles=True, reduce_len=True)\n",
    "  tweet_tokens = tokenizer.tokenize(tweet)\n",
    "\n",
    "  #REMOVE STOP WORDS, PUNCTUATION AND NAMES\n",
    "  Stopwords = stopwords.words('english')\n",
    "  Punctuation = list(punctuation)\n",
    "  male_female = names.words('male.txt') + names.words('female.txt')\n",
    "  clean_tweets = []\n",
    "  porter_stemmer  = PorterStemmer()\n",
    "  for token in tweet_tokens:\n",
    "    if token not in Stopwords and token not in Punctuation and token not in male_female:\n",
    "      clean_tweets.append(porter_stemmer.stem(token))\n",
    "\n",
    "  return ' '.join(clean_tweets)\n",
    "\n",
    "\n",
    "#INPUT\n",
    "tweet = \"@JetBlue Great flight, as always! Thank you to the great crew on flight 475! # travel #jetblue\"\n",
    "preprocessingLR(tweet)"
   ]
  },
  {
   "cell_type": "markdown",
   "metadata": {
    "id": "huVfM0MOBgZ5"
   },
   "source": [
    "###**Features extraction**\n",
    "From the input files we create a sets containing all tweets and a set containing their respective labels.\n",
    "Using the `fit_transform()` function of `CountVectorizer` object we transform the sentences into a sparse word-document matrix turning words into lowercase."
   ]
  },
  {
   "cell_type": "code",
   "execution_count": null,
   "metadata": {
    "id": "tlfhjWnBCLWI"
   },
   "outputs": [],
   "source": [
    "data = []\n",
    "data_labels = []\n",
    "\n",
    "for i in twitter_samples.strings('positive_tweets.json'): \n",
    "  data.append(preprocessingLR(i)) \n",
    "  data_labels.append('pos')\n",
    "\n",
    "for i in twitter_samples.strings('negative_tweets.json'): \n",
    "  data.append(preprocessingLR(i))\n",
    "  data_labels.append('neg')\n",
    "\n",
    "with open(\"./test_sets.csv\") as csvfile:\n",
    "  reader = csv.reader(csvfile, delimiter = \",\")\n",
    "  for row in reader:\n",
    "    if row[0] == 'negative':\n",
    "      data.append(preprocessingLR(row[1]))\n",
    "      data_labels.append('neg')\n",
    "    else:\n",
    "      data.append(preprocessingLR(row[1]))\n",
    "      data_labels.append('pos')\n",
    "\n",
    "\n",
    "vectorizer = CountVectorizer(analyzer = 'word', lowercase = True)\n",
    "features = vectorizer.fit_transform(data) #FEATURES = DOCUMENT TERM MATRIX\n"
   ]
  },
  {
   "cell_type": "markdown",
   "metadata": {
    "id": "Z7-0GluZDCqL"
   },
   "source": [
    "### **Splitting** \n",
    "We split the data into training set and test set (75% - 25%), with respective output sets, using the bult-in scikit-learn's function `train_test_split()`.\n",
    "We use the same function for splitting the test set into 4 subsets, each one of 25%."
   ]
  },
  {
   "cell_type": "code",
   "execution_count": null,
   "metadata": {
    "id": "_hkrjMzSZckV"
   },
   "outputs": [],
   "source": [
    "x_train, x_test, y_train, y_test = train_test_split(features,data_labels)\n",
    "\n",
    "x1_test, x2_test, y1_test, y2_test = train_test_split(x_test, y_test, train_size=0.5)\n",
    "\n",
    "x3_test, x4_test, y3_test, y4_test = train_test_split(x1_test, y1_test, train_size=0.5)#25%\n",
    "\n",
    "x1_test, x2_test, y1_test, y2_test = train_test_split(x2_test, y2_test, train_size=0.5) # 25%\n"
   ]
  },
  {
   "cell_type": "markdown",
   "metadata": {
    "id": "7mHFqKZWDjg4"
   },
   "source": [
    "### **Training**\n",
    "Since $h_{\\theta}(x)$ depends on $\\theta$ parameters the goal of the training function is to find $\\theta$ parameters such that they minimize the Cost function.\n",
    "#### **Cost function**\n",
    "\n",
    "\\begin{align}\n",
    "Cost(h_{\\theta}(x),y) =\\begin{cases} {-\\log (h_{\\theta}(x))} & \\mbox{if } \\mbox{ y = 1}\\\\ {-\\log ( 1 - h_{\\theta}(x)) } & \\mbox{if } \\mbox{ y = 0} \\end{cases}\n",
    "\\end{align}\n",
    "\n",
    "i.e, if the model predicts an output different from the associated output then it is penalized with a high cost, otherwise the cost is 0.\n",
    "\n",
    "Since y = 0 or 1 (always):\n",
    "\n",
    "\\begin{align}\n",
    "Cost(h_{\\theta}(x),y) =  - y\\log (h_{\\theta}(x))- (1 - y)\\log ( 1 - h_{\\theta}(x))\n",
    "\\end{align}\n",
    "\n",
    "i.e, the **cross entropy**.\n",
    "\n",
    "Since the cost function applies to each pattern in our case we define the $J(\\theta)$ function as the average of the cost functions of the individual patterns:\n",
    "\n",
    "\\begin{align}\n",
    "J(\\theta) = \\frac{1}{m} \\sum_{i = 0}^m Cost(h_{\\theta}(x^i),y^i)\n",
    "\\end{align}\n",
    "\n",
    "The goal is to minimize $J(\\theta)$, and to do this we use the **gradient descent** technique:\n",
    "\n",
    "\\begin{align}\n",
    "\\frac{\\partial}{\\partial \\theta_j} J(\\theta) = \\frac{1}{m} \\sum_{i = 0}^m Cost(h_{\\theta}(x^i) - y^i)x_{j}^{(i)}\n",
    "\\end{align}\n",
    "<br>\n",
    "\n",
    "#### **LR training**\n",
    "\n",
    "To train the LR Model we have to:\n",
    "- initialize ${\\theta}$ parameter\n",
    "- compute the gradient to update theta\n",
    "- calculate the cost until good enough\n",
    "\n",
    "\n"
   ]
  },
  {
   "cell_type": "code",
   "execution_count": null,
   "metadata": {
    "colab": {
     "base_uri": "https://localhost:8080/",
     "height": 75
    },
    "executionInfo": {
     "elapsed": 1061,
     "status": "ok",
     "timestamp": 1671809231981,
     "user": {
      "displayName": "Vincenzo Mele",
      "userId": "17409443190495227527"
     },
     "user_tz": -60
    },
    "id": "K-uNi7MKDYyx",
    "outputId": "fa8764f8-fbb5-434b-aaa5-6a6ac001448c"
   },
   "outputs": [],
   "source": [
    "#MODEL FIT\n",
    "LRClassifier = LogisticRegression()\n",
    "LRClassifier.fit(x_train,y_train)"
   ]
  },
  {
   "cell_type": "markdown",
   "metadata": {
    "id": "h3xyF2rB3gCX"
   },
   "source": [
    "### **Evaluation**\n",
    "We create two sets, the first containing the patterns, the second their respective labels. We use them to calculate the **Confusion Matrix** and measures: **recall, precision and f-score**.\n"
   ]
  },
  {
   "cell_type": "code",
   "execution_count": null,
   "metadata": {
    "colab": {
     "base_uri": "https://localhost:8080/",
     "height": 1000
    },
    "executionInfo": {
     "elapsed": 1733,
     "status": "ok",
     "timestamp": 1671810204457,
     "user": {
      "displayName": "Vincenzo Mele",
      "userId": "17409443190495227527"
     },
     "user_tz": -60
    },
    "id": "PWip4W9n3lmH",
    "outputId": "d4099fb2-bee5-4e57-da2b-0ce32a3a962a"
   },
   "outputs": [],
   "source": [
    "from sklearn.metrics import accuracy_score\n",
    "predict_test =[LRClassifier.predict(x1_test),LRClassifier.predict(x2_test), LRClassifier.predict(x3_test), LRClassifier.predict(x4_test)] \n",
    "\n",
    "Y_TEST = [y1_test,y2_test,y3_test,y4_test]\n",
    "mat_list = []\n",
    "accuracies = []\n",
    "df_metrics = None\n",
    "for y_pred,y_true in zip(predict_test,Y_TEST):\n",
    "  accuracies.append(accuracy_score(y_true,y_pred))\n",
    "  mat = confusion_matrix(y_true,y_pred, labels=[\"pos\",\"neg\"])\n",
    "  df_metrics = pd.DataFrame(precision_recall_fscore_support(y_true,y_pred)[:3], columns = [\"neg\",\"pos\"], index = [\"recall\",\"precision\",\"f_measure\"])\n",
    "  disp = ConfusionMatrixDisplay(confusion_matrix=mat, display_labels=[\"pos\",\"neg\"])\n",
    "  disp.plot()\n",
    "  print(\"ACCURACY =\", accuracy_score(y_true,y_pred))\n",
    "  display(df_metrics)\n",
    "\n",
    "accuracies = np.array(accuracies)\n",
    "print(\"Accuracy's StdDev: \",  accuracies.std())\n",
    "print(\"Accuracy's mean\", accuracies.mean())\n",
    "\n",
    "\n",
    "  \n",
    "\n",
    "\n",
    "\n",
    "\n",
    "  "
   ]
  },
  {
   "cell_type": "code",
   "execution_count": null,
   "metadata": {
    "id": "DfvnBE3Un-2o"
   },
   "outputs": [],
   "source": []
  },
  {
   "cell_type": "markdown",
   "metadata": {
    "id": "0SwYtG2fDo1R"
   },
   "source": [
    "**Example**\n",
    "\n",
    "Given a new tweet we calculate the probability that it is `'pos'` or `'neg'`."
   ]
  },
  {
   "cell_type": "code",
   "execution_count": null,
   "metadata": {
    "colab": {
     "base_uri": "https://localhost:8080/"
    },
    "executionInfo": {
     "elapsed": 6,
     "status": "ok",
     "timestamp": 1671809232931,
     "user": {
      "displayName": "Vincenzo Mele",
      "userId": "17409443190495227527"
     },
     "user_tz": -60
    },
    "id": "SdrZiHZtgvO8",
    "outputId": "fc1debab-ce2c-4f4e-e0ba-88a28dcf0242"
   },
   "outputs": [],
   "source": [
    "#INPUT TEST\n",
    "tweet = 'The other day I had a pizza in Puglia, but it looked like a cookie. Really horrible and inedible'\n",
    "List = []\n",
    "List.append(preprocessingLR(tweet))\n",
    "INPUT = vectorizer.transform(List)\n",
    "\n",
    "print(f'Result: {LRClassifier.predict(INPUT)}\\n with prob: {LRClassifier.predict_proba(INPUT)}')\n"
   ]
  }
 ],
 "metadata": {
  "colab": {
   "provenance": []
  },
  "gpuClass": "standard",
  "kernelspec": {
   "display_name": "Python 3 (ipykernel)",
   "language": "python",
   "name": "python3"
  },
  "language_info": {
   "codemirror_mode": {
    "name": "ipython",
    "version": 3
   },
   "file_extension": ".py",
   "mimetype": "text/x-python",
   "name": "python",
   "nbconvert_exporter": "python",
   "pygments_lexer": "ipython3",
   "version": "3.9.13"
  }
 },
 "nbformat": 4,
 "nbformat_minor": 1
}
